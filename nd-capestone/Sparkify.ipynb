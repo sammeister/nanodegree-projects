{
 "cells": [
  {
   "cell_type": "markdown",
   "metadata": {},
   "source": [
    "# Sparkify Project Workspace\n",
    "This workspace contains a tiny subset (128MB) of the full dataset available (12GB). Feel free to use this workspace to build your project, or to explore a smaller subset with Spark before deploying your cluster on the cloud. Instructions for setting up your Spark cluster is included in the last lesson of the Extracurricular Spark Course content.\n",
    "\n",
    "You can follow the steps below to guide your data analysis and model building portion of this project."
   ]
  },
  {
   "cell_type": "markdown",
   "metadata": {},
   "source": [
    "1. [Introduction](#intro)<br>\n",
    "2. [Load & clean dataset](#wrangling)<br>\n",
    "3. [Exploratory data analysis](#eda)<br>\n",
    "4. [Feature engineering](#feateng)<br>\n",
    "5. [Modeling](#model)<br>\n",
    "6. [Conclusion](#results)<br>\n"
   ]
  },
  {
   "cell_type": "markdown",
   "metadata": {},
   "source": [
    "# <a class=\"anchor\" id=\"intro\">1. Introduction</a>\n",
    "\n",
    "Along this project, we will be working on a challenging real case problem that many customer-facing business have to deal with, which is how to predict the churn rate of their users.\n",
    "\n",
    "To accomplish the project, we have been provided with a datastet from Sparkify organization.\n",
    "\n",
    "We will be working on large dataset hence usage of Spark will be key to manipulate the data. Spark ML lib will also be deterministic in the best choice of algorithm to pick and evaluate for our predictive model.\n"
   ]
  },
  {
   "cell_type": "code",
   "execution_count": 106,
   "metadata": {},
   "outputs": [],
   "source": [
    "# import libraries\n",
    "import datetime\n",
    "import time\n",
    "import pyspark\n",
    "import pandas as pd\n",
    "from pyspark import SparkConf\n",
    "from pyspark.sql import SparkSession\n",
    "\n",
    "\n",
    "from pyspark.sql.functions import col,isnan, when, count,lower,udf, datediff,countDistinct\n",
    "from pyspark.sql import functions as F\n",
    "from pyspark.sql.types import IntegerType\n",
    "\n",
    "\n",
    "\n",
    "from pyspark.ml.feature import StringIndexer, OneHotEncoder, VectorAssembler, Normalizer, StandardScaler\n",
    "from pyspark.ml.classification import LogisticRegression, RandomForestClassifier, GBTClassifier, LinearSVC, NaiveBayes\n",
    "from pyspark.ml.evaluation import MulticlassClassificationEvaluator\n",
    "from pyspark.ml.tuning import CrossValidator, ParamGridBuilder\n",
    "\n",
    "\n",
    "\n",
    "%matplotlib inline\n",
    "import matplotlib.pyplot as plt\n",
    "import seaborn as sns"
   ]
  },
  {
   "cell_type": "code",
   "execution_count": 107,
   "metadata": {},
   "outputs": [],
   "source": [
    "# create a Spark session\n",
    "spark = SparkSession \\\n",
    "    .builder \\\n",
    "    .appName(\"SparkifyProject\") \\\n",
    "    .getOrCreate()"
   ]
  },
  {
   "cell_type": "markdown",
   "metadata": {},
   "source": [
    "# <a class=\"anchor\" id=\"wrangling\">2. Load & clean dataset</a>\n",
    "In this workspace, the mini-dataset file is `mini_sparkify_event_data.json`. Load and clean the dataset, checking for invalid or missing data - for example, records without userids or sessionids. "
   ]
  },
  {
   "cell_type": "code",
   "execution_count": 3,
   "metadata": {},
   "outputs": [],
   "source": [
    "# load dataset\n",
    "df = spark.read.json(\"mini_sparkify_event_data.json\")"
   ]
  },
  {
   "cell_type": "code",
   "execution_count": 4,
   "metadata": {},
   "outputs": [
    {
     "name": "stdout",
     "output_type": "stream",
     "text": [
      "+----------------+---------+---------+------+-------------+--------+---------+-----+--------------------+------+--------+-------------+---------+--------------------+------+-------------+--------------------+------+\n",
      "|          artist|     auth|firstName|gender|itemInSession|lastName|   length|level|            location|method|    page| registration|sessionId|                song|status|           ts|           userAgent|userId|\n",
      "+----------------+---------+---------+------+-------------+--------+---------+-----+--------------------+------+--------+-------------+---------+--------------------+------+-------------+--------------------+------+\n",
      "|  Martha Tilston|Logged In|    Colin|     M|           50| Freeman|277.89016| paid|     Bakersfield, CA|   PUT|NextSong|1538173362000|       29|           Rockpools|   200|1538352117000|Mozilla/5.0 (Wind...|    30|\n",
      "|Five Iron Frenzy|Logged In|    Micah|     M|           79|    Long|236.09424| free|Boston-Cambridge-...|   PUT|NextSong|1538331630000|        8|              Canada|   200|1538352180000|\"Mozilla/5.0 (Win...|     9|\n",
      "|    Adam Lambert|Logged In|    Colin|     M|           51| Freeman| 282.8273| paid|     Bakersfield, CA|   PUT|NextSong|1538173362000|       29|   Time For Miracles|   200|1538352394000|Mozilla/5.0 (Wind...|    30|\n",
      "|          Enigma|Logged In|    Micah|     M|           80|    Long|262.71302| free|Boston-Cambridge-...|   PUT|NextSong|1538331630000|        8|Knocking On Forbi...|   200|1538352416000|\"Mozilla/5.0 (Win...|     9|\n",
      "|       Daft Punk|Logged In|    Colin|     M|           52| Freeman|223.60771| paid|     Bakersfield, CA|   PUT|NextSong|1538173362000|       29|Harder Better Fas...|   200|1538352676000|Mozilla/5.0 (Wind...|    30|\n",
      "+----------------+---------+---------+------+-------------+--------+---------+-----+--------------------+------+--------+-------------+---------+--------------------+------+-------------+--------------------+------+\n",
      "only showing top 5 rows\n",
      "\n"
     ]
    }
   ],
   "source": [
    "df.show(5)"
   ]
  },
  {
   "cell_type": "code",
   "execution_count": 5,
   "metadata": {},
   "outputs": [
    {
     "name": "stdout",
     "output_type": "stream",
     "text": [
      "root\n",
      " |-- artist: string (nullable = true)\n",
      " |-- auth: string (nullable = true)\n",
      " |-- firstName: string (nullable = true)\n",
      " |-- gender: string (nullable = true)\n",
      " |-- itemInSession: long (nullable = true)\n",
      " |-- lastName: string (nullable = true)\n",
      " |-- length: double (nullable = true)\n",
      " |-- level: string (nullable = true)\n",
      " |-- location: string (nullable = true)\n",
      " |-- method: string (nullable = true)\n",
      " |-- page: string (nullable = true)\n",
      " |-- registration: long (nullable = true)\n",
      " |-- sessionId: long (nullable = true)\n",
      " |-- song: string (nullable = true)\n",
      " |-- status: long (nullable = true)\n",
      " |-- ts: long (nullable = true)\n",
      " |-- userAgent: string (nullable = true)\n",
      " |-- userId: string (nullable = true)\n",
      "\n"
     ]
    }
   ],
   "source": [
    "# check for schema data types\n",
    "df.printSchema()"
   ]
  },
  {
   "cell_type": "code",
   "execution_count": 6,
   "metadata": {},
   "outputs": [
    {
     "name": "stdout",
     "output_type": "stream",
     "text": [
      "(286500, 18)\n"
     ]
    }
   ],
   "source": [
    "# shape of dataset\n",
    "print((df.count(), len(df.columns)))"
   ]
  },
  {
   "cell_type": "code",
   "execution_count": 7,
   "metadata": {},
   "outputs": [
    {
     "name": "stdout",
     "output_type": "stream",
     "text": [
      "+------+----+---------+------+-------------+--------+------+-----+--------+------+----+------------+---------+-----+------+---+---------+------+\n",
      "|artist|auth|firstName|gender|itemInSession|lastName|length|level|location|method|page|registration|sessionId| song|status| ts|userAgent|userId|\n",
      "+------+----+---------+------+-------------+--------+------+-----+--------+------+----+------------+---------+-----+------+---+---------+------+\n",
      "| 58392|   0|     8346|  8346|            0|    8346| 58392|    0|    8346|     0|   0|        8346|        0|58392|     0|  0|     8346|     0|\n",
      "+------+----+---------+------+-------------+--------+------+-----+--------+------+----+------------+---------+-----+------+---+---------+------+\n",
      "\n"
     ]
    }
   ],
   "source": [
    "# check for empty/null values\n",
    "df.select([count(when(isnan(c) | col(c).isNull(), c)).alias(c) for c in df.columns]\n",
    "   ).show()"
   ]
  },
  {
   "cell_type": "markdown",
   "metadata": {},
   "source": [
    "`.` We have some nan/null values that we'll have to take care of before building our model.\n",
    "Those empty values can not be dropped arbitrarily in our case since they might be expected for some of the events logged in data."
   ]
  },
  {
   "cell_type": "code",
   "execution_count": 8,
   "metadata": {},
   "outputs": [
    {
     "name": "stdout",
     "output_type": "stream",
     "text": [
      "+------+----+---------+------+-------------+--------+------+-----+--------+------+----+------------+---------+----+------+---+---------+------+\n",
      "|artist|auth|firstName|gender|itemInSession|lastName|length|level|location|method|page|registration|sessionId|song|status| ts|userAgent|userId|\n",
      "+------+----+---------+------+-------------+--------+------+-----+--------+------+----+------------+---------+----+------+---+---------+------+\n",
      "+------+----+---------+------+-------------+--------+------+-----+--------+------+----+------------+---------+----+------+---+---------+------+\n",
      "\n"
     ]
    }
   ],
   "source": [
    "# checking for duplicates rows cross all cols\n",
    "df.exceptAll(df.dropDuplicates(df.columns)).show()"
   ]
  },
  {
   "cell_type": "code",
   "execution_count": 9,
   "metadata": {},
   "outputs": [
    {
     "name": "stdout",
     "output_type": "stream",
     "text": [
      "(286500, 18)\n"
     ]
    }
   ],
   "source": [
    "# check num of rows after removing dups \n",
    "print((df.count(), len(df.columns)))"
   ]
  },
  {
   "cell_type": "markdown",
   "metadata": {},
   "source": [
    "`.` no duplicate row found checking for all cols in dataset"
   ]
  },
  {
   "cell_type": "code",
   "execution_count": 10,
   "metadata": {},
   "outputs": [],
   "source": [
    "# lower case all col names\n",
    "df_clean = df.select([F.col(x).alias(x.lower()) for x in df.columns])"
   ]
  },
  {
   "cell_type": "code",
   "execution_count": 11,
   "metadata": {},
   "outputs": [
    {
     "name": "stdout",
     "output_type": "stream",
     "text": [
      "root\n",
      " |-- artist: string (nullable = true)\n",
      " |-- auth: string (nullable = true)\n",
      " |-- firstname: string (nullable = true)\n",
      " |-- gender: string (nullable = true)\n",
      " |-- iteminsession: long (nullable = true)\n",
      " |-- lastname: string (nullable = true)\n",
      " |-- length: double (nullable = true)\n",
      " |-- level: string (nullable = true)\n",
      " |-- location: string (nullable = true)\n",
      " |-- method: string (nullable = true)\n",
      " |-- page: string (nullable = true)\n",
      " |-- registration: long (nullable = true)\n",
      " |-- sessionid: long (nullable = true)\n",
      " |-- song: string (nullable = true)\n",
      " |-- status: long (nullable = true)\n",
      " |-- ts: long (nullable = true)\n",
      " |-- useragent: string (nullable = true)\n",
      " |-- userid: string (nullable = true)\n",
      "\n"
     ]
    }
   ],
   "source": [
    "df_clean.printSchema()"
   ]
  },
  {
   "cell_type": "code",
   "execution_count": 12,
   "metadata": {},
   "outputs": [],
   "source": [
    "# removing userID set as empty string\n",
    "df_clean = df_clean.filter(df_clean[\"userid\"] != \"\")\n"
   ]
  },
  {
   "cell_type": "markdown",
   "metadata": {},
   "source": [
    "`.` We had some rows storing userid as empty string. This would break some operations carried out later and such records do not bring\n",
    "any value, therefore we can safely remove those."
   ]
  },
  {
   "cell_type": "code",
   "execution_count": 13,
   "metadata": {},
   "outputs": [],
   "source": [
    "# Define udf to convert epoch timestamp to human readable date format\n",
    "convert_datetime = udf(lambda x: datetime.datetime.fromtimestamp(x / 1000.0).strftime(\"%Y-%m-%d %H:%M:%S\"))"
   ]
  },
  {
   "cell_type": "code",
   "execution_count": 14,
   "metadata": {},
   "outputs": [],
   "source": [
    "# create new col event_timedate\n",
    "df_clean = df_clean.withColumn(\"event_timedate\", convert_datetime(df_clean.ts))\n",
    "\n",
    "# create new col registration_date\n",
    "df_clean = df_clean.withColumn(\"registration_timedate\", convert_datetime(df_clean.registration))"
   ]
  },
  {
   "cell_type": "code",
   "execution_count": 15,
   "metadata": {},
   "outputs": [
    {
     "name": "stdout",
     "output_type": "stream",
     "text": [
      "root\n",
      " |-- artist: string (nullable = true)\n",
      " |-- auth: string (nullable = true)\n",
      " |-- firstname: string (nullable = true)\n",
      " |-- gender: string (nullable = true)\n",
      " |-- iteminsession: long (nullable = true)\n",
      " |-- lastname: string (nullable = true)\n",
      " |-- length: double (nullable = true)\n",
      " |-- level: string (nullable = true)\n",
      " |-- location: string (nullable = true)\n",
      " |-- method: string (nullable = true)\n",
      " |-- page: string (nullable = true)\n",
      " |-- registration: long (nullable = true)\n",
      " |-- sessionid: long (nullable = true)\n",
      " |-- song: string (nullable = true)\n",
      " |-- status: long (nullable = true)\n",
      " |-- ts: long (nullable = true)\n",
      " |-- useragent: string (nullable = true)\n",
      " |-- userid: string (nullable = true)\n",
      " |-- event_timedate: string (nullable = true)\n",
      " |-- registration_timedate: string (nullable = true)\n",
      "\n"
     ]
    }
   ],
   "source": [
    "df_clean.printSchema()"
   ]
  },
  {
   "cell_type": "markdown",
   "metadata": {},
   "source": [
    "`.` new columns created properly showing up in schema"
   ]
  },
  {
   "cell_type": "code",
   "execution_count": 16,
   "metadata": {},
   "outputs": [],
   "source": [
    "# cast data type to sort our data\n",
    "df_clean = df_clean.withColumn(\"userid\",df_clean.userid.cast(IntegerType()))\n",
    "df_clean = df_clean.withColumn(\"ts\",df_clean.ts.cast(IntegerType()))\n"
   ]
  },
  {
   "cell_type": "code",
   "execution_count": 17,
   "metadata": {},
   "outputs": [
    {
     "data": {
      "text/html": [
       "<div>\n",
       "<style scoped>\n",
       "    .dataframe tbody tr th:only-of-type {\n",
       "        vertical-align: middle;\n",
       "    }\n",
       "\n",
       "    .dataframe tbody tr th {\n",
       "        vertical-align: top;\n",
       "    }\n",
       "\n",
       "    .dataframe thead th {\n",
       "        text-align: right;\n",
       "    }\n",
       "</style>\n",
       "<table border=\"1\" class=\"dataframe\">\n",
       "  <thead>\n",
       "    <tr style=\"text-align: right;\">\n",
       "      <th></th>\n",
       "      <th>artist</th>\n",
       "      <th>auth</th>\n",
       "      <th>firstname</th>\n",
       "      <th>gender</th>\n",
       "      <th>iteminsession</th>\n",
       "      <th>lastname</th>\n",
       "      <th>length</th>\n",
       "      <th>level</th>\n",
       "      <th>location</th>\n",
       "      <th>method</th>\n",
       "      <th>page</th>\n",
       "      <th>registration</th>\n",
       "      <th>sessionid</th>\n",
       "      <th>song</th>\n",
       "      <th>status</th>\n",
       "      <th>ts</th>\n",
       "      <th>useragent</th>\n",
       "      <th>userid</th>\n",
       "      <th>event_timedate</th>\n",
       "      <th>registration_timedate</th>\n",
       "    </tr>\n",
       "  </thead>\n",
       "  <tbody>\n",
       "    <tr>\n",
       "      <th>0</th>\n",
       "      <td>None</td>\n",
       "      <td>Logged In</td>\n",
       "      <td>Colin</td>\n",
       "      <td>M</td>\n",
       "      <td>2</td>\n",
       "      <td>Freeman</td>\n",
       "      <td>NaN</td>\n",
       "      <td>free</td>\n",
       "      <td>Bakersfield, CA</td>\n",
       "      <td>GET</td>\n",
       "      <td>Home</td>\n",
       "      <td>1538173362000</td>\n",
       "      <td>945</td>\n",
       "      <td>None</td>\n",
       "      <td>200</td>\n",
       "      <td>-1822290264</td>\n",
       "      <td>Mozilla/5.0 (Windows NT 6.1; WOW64; rv:31.0) G...</td>\n",
       "      <td>30</td>\n",
       "      <td>2018-10-20 21:29:29</td>\n",
       "      <td>2018-09-28 22:22:42</td>\n",
       "    </tr>\n",
       "    <tr>\n",
       "      <th>1</th>\n",
       "      <td>Carbon Based Lifeforms</td>\n",
       "      <td>Logged In</td>\n",
       "      <td>Colin</td>\n",
       "      <td>M</td>\n",
       "      <td>0</td>\n",
       "      <td>Freeman</td>\n",
       "      <td>425.27302</td>\n",
       "      <td>free</td>\n",
       "      <td>Bakersfield, CA</td>\n",
       "      <td>PUT</td>\n",
       "      <td>NextSong</td>\n",
       "      <td>1538173362000</td>\n",
       "      <td>1110</td>\n",
       "      <td>Silent Running</td>\n",
       "      <td>200</td>\n",
       "      <td>-1625175264</td>\n",
       "      <td>Mozilla/5.0 (Windows NT 6.1; WOW64; rv:31.0) G...</td>\n",
       "      <td>30</td>\n",
       "      <td>2018-10-23 04:14:44</td>\n",
       "      <td>2018-09-28 22:22:42</td>\n",
       "    </tr>\n",
       "    <tr>\n",
       "      <th>2</th>\n",
       "      <td>Metallica</td>\n",
       "      <td>Logged In</td>\n",
       "      <td>Colin</td>\n",
       "      <td>M</td>\n",
       "      <td>1</td>\n",
       "      <td>Freeman</td>\n",
       "      <td>396.40771</td>\n",
       "      <td>free</td>\n",
       "      <td>Bakersfield, CA</td>\n",
       "      <td>PUT</td>\n",
       "      <td>NextSong</td>\n",
       "      <td>1538173362000</td>\n",
       "      <td>1110</td>\n",
       "      <td>The Unforgiven II</td>\n",
       "      <td>200</td>\n",
       "      <td>-1624750264</td>\n",
       "      <td>Mozilla/5.0 (Windows NT 6.1; WOW64; rv:31.0) G...</td>\n",
       "      <td>30</td>\n",
       "      <td>2018-10-23 04:21:49</td>\n",
       "      <td>2018-09-28 22:22:42</td>\n",
       "    </tr>\n",
       "    <tr>\n",
       "      <th>3</th>\n",
       "      <td>Les MisÃÂ©rables - 10th Anniversary Concert</td>\n",
       "      <td>Logged In</td>\n",
       "      <td>Colin</td>\n",
       "      <td>M</td>\n",
       "      <td>2</td>\n",
       "      <td>Freeman</td>\n",
       "      <td>219.92444</td>\n",
       "      <td>free</td>\n",
       "      <td>Bakersfield, CA</td>\n",
       "      <td>PUT</td>\n",
       "      <td>NextSong</td>\n",
       "      <td>1538173362000</td>\n",
       "      <td>1110</td>\n",
       "      <td>Valjean's Soliloquy</td>\n",
       "      <td>200</td>\n",
       "      <td>-1624354264</td>\n",
       "      <td>Mozilla/5.0 (Windows NT 6.1; WOW64; rv:31.0) G...</td>\n",
       "      <td>30</td>\n",
       "      <td>2018-10-23 04:28:25</td>\n",
       "      <td>2018-09-28 22:22:42</td>\n",
       "    </tr>\n",
       "    <tr>\n",
       "      <th>4</th>\n",
       "      <td>FM Static</td>\n",
       "      <td>Logged In</td>\n",
       "      <td>Colin</td>\n",
       "      <td>M</td>\n",
       "      <td>3</td>\n",
       "      <td>Freeman</td>\n",
       "      <td>218.27873</td>\n",
       "      <td>free</td>\n",
       "      <td>Bakersfield, CA</td>\n",
       "      <td>PUT</td>\n",
       "      <td>NextSong</td>\n",
       "      <td>1538173362000</td>\n",
       "      <td>1110</td>\n",
       "      <td>Tonight</td>\n",
       "      <td>200</td>\n",
       "      <td>-1624135264</td>\n",
       "      <td>Mozilla/5.0 (Windows NT 6.1; WOW64; rv:31.0) G...</td>\n",
       "      <td>30</td>\n",
       "      <td>2018-10-23 04:32:04</td>\n",
       "      <td>2018-09-28 22:22:42</td>\n",
       "    </tr>\n",
       "  </tbody>\n",
       "</table>\n",
       "</div>"
      ],
      "text/plain": [
       "                                         artist       auth firstname gender  \\\n",
       "0                                          None  Logged In     Colin      M   \n",
       "1                        Carbon Based Lifeforms  Logged In     Colin      M   \n",
       "2                                     Metallica  Logged In     Colin      M   \n",
       "3  Les MisÃÂ©rables - 10th Anniversary Concert  Logged In     Colin      M   \n",
       "4                                     FM Static  Logged In     Colin      M   \n",
       "\n",
       "   iteminsession lastname     length level         location method      page  \\\n",
       "0              2  Freeman        NaN  free  Bakersfield, CA    GET      Home   \n",
       "1              0  Freeman  425.27302  free  Bakersfield, CA    PUT  NextSong   \n",
       "2              1  Freeman  396.40771  free  Bakersfield, CA    PUT  NextSong   \n",
       "3              2  Freeman  219.92444  free  Bakersfield, CA    PUT  NextSong   \n",
       "4              3  Freeman  218.27873  free  Bakersfield, CA    PUT  NextSong   \n",
       "\n",
       "    registration  sessionid                 song  status          ts  \\\n",
       "0  1538173362000        945                 None     200 -1822290264   \n",
       "1  1538173362000       1110       Silent Running     200 -1625175264   \n",
       "2  1538173362000       1110    The Unforgiven II     200 -1624750264   \n",
       "3  1538173362000       1110  Valjean's Soliloquy     200 -1624354264   \n",
       "4  1538173362000       1110              Tonight     200 -1624135264   \n",
       "\n",
       "                                           useragent  userid  \\\n",
       "0  Mozilla/5.0 (Windows NT 6.1; WOW64; rv:31.0) G...      30   \n",
       "1  Mozilla/5.0 (Windows NT 6.1; WOW64; rv:31.0) G...      30   \n",
       "2  Mozilla/5.0 (Windows NT 6.1; WOW64; rv:31.0) G...      30   \n",
       "3  Mozilla/5.0 (Windows NT 6.1; WOW64; rv:31.0) G...      30   \n",
       "4  Mozilla/5.0 (Windows NT 6.1; WOW64; rv:31.0) G...      30   \n",
       "\n",
       "        event_timedate registration_timedate  \n",
       "0  2018-10-20 21:29:29   2018-09-28 22:22:42  \n",
       "1  2018-10-23 04:14:44   2018-09-28 22:22:42  \n",
       "2  2018-10-23 04:21:49   2018-09-28 22:22:42  \n",
       "3  2018-10-23 04:28:25   2018-09-28 22:22:42  \n",
       "4  2018-10-23 04:32:04   2018-09-28 22:22:42  "
      ]
     },
     "execution_count": 17,
     "metadata": {},
     "output_type": "execute_result"
    }
   ],
   "source": [
    "# sort events by user and time\n",
    "df_clean = df_clean.sort(['userid','ts'], ascending=True)\n",
    "\n",
    "# check is events are sorted properly\n",
    "df_clean.filter(df_clean[\"userid\"] == 30).toPandas().head()"
   ]
  },
  {
   "cell_type": "markdown",
   "metadata": {},
   "source": [
    "`.` We are sorting all users interactions in chronological order (asc). let's see if we can later extract some feature out of it. Having the ordered sequences of actions performed might help us to identify possible pain points churn users came across."
   ]
  },
  {
   "cell_type": "markdown",
   "metadata": {},
   "source": [
    "# <a class=\"anchor\" id=\"eda\">3. Exploratory data analysis</a>\n"
   ]
  },
  {
   "cell_type": "markdown",
   "metadata": {},
   "source": [
    "\n",
    "When you're working with the full dataset, perform EDA by loading a small subset of the data and doing basic manipulations within Spark. In this workspace, you are already provided a small subset of data you can explore.\n",
    "\n",
    "### Define Churn\n",
    "\n",
    "Once you've done some preliminary analysis, create a column `Churn` to use as the label for your model. I suggest using the `Cancellation Confirmation` events to define your churn, which happen for both paid and free users. As a bonus task, you can also look into the `Downgrade` events.\n",
    "\n",
    "### Explore Data\n",
    "Once you've defined churn, perform some exploratory data analysis to observe the behavior for users who stayed vs users who churned. You can start by exploring aggregates on these two groups of users, observing how much of a specific action they experienced per a certain time unit or number of songs played."
   ]
  },
  {
   "cell_type": "code",
   "execution_count": 18,
   "metadata": {},
   "outputs": [],
   "source": [
    "# identify churned users\n",
    "churn_ids = df_clean.select(\"userid\").where(df_clean.page ==\"Cancellation Confirmation\")\n",
    "\n",
    "churn_ids_list = churn_ids.select(\"userid\").rdd.flatMap(lambda x: x).collect()"
   ]
  },
  {
   "cell_type": "code",
   "execution_count": 19,
   "metadata": {},
   "outputs": [],
   "source": [
    "# add new col to identify actions made by churned/not churned users\n",
    "df_clean = df_clean.withColumn(\"has_cancelled\",when((df_clean.userid.isin(churn_ids_list)), 1).otherwise(0))"
   ]
  },
  {
   "cell_type": "code",
   "execution_count": 20,
   "metadata": {},
   "outputs": [
    {
     "name": "stdout",
     "output_type": "stream",
     "text": [
      "+-------------+----------------------+\n",
      "|has_cancelled|count(DISTINCT userid)|\n",
      "+-------------+----------------------+\n",
      "|            1|                    52|\n",
      "|            0|                   173|\n",
      "+-------------+----------------------+\n",
      "\n"
     ]
    }
   ],
   "source": [
    "# check for num of churned users\n",
    "df_clean.groupBy(\"has_cancelled\").agg(countDistinct('userid')).show()"
   ]
  },
  {
   "cell_type": "markdown",
   "metadata": {},
   "source": [
    "`.` all rows/interactions made to churned users will return `has_cancelled ==1`\n",
    "\n",
    "`.` we only have 52 users who churned, even thought they count for 30% of our users base, this number might be too small, let's also consider to add users who downgraded."
   ]
  },
  {
   "cell_type": "code",
   "execution_count": 21,
   "metadata": {},
   "outputs": [],
   "source": [
    "# identify users who downgraded\n",
    "downgrade_ids = df_clean.select(\"userid\").where(df_clean.page ==\"Downgrade\")\n",
    "\n",
    "downgrade_ids_list = downgrade_ids.select(\"userid\").rdd.flatMap(lambda x: x).collect()"
   ]
  },
  {
   "cell_type": "code",
   "execution_count": 22,
   "metadata": {},
   "outputs": [],
   "source": [
    "# add downgraded users col to dataset\n",
    "\n",
    "df_clean = df_clean.withColumn(\"has_downgraded\",when((df_clean.userid.isin(downgrade_ids_list)), 1).otherwise(0))"
   ]
  },
  {
   "cell_type": "code",
   "execution_count": 23,
   "metadata": {},
   "outputs": [
    {
     "name": "stdout",
     "output_type": "stream",
     "text": [
      "+--------------+----------------------+\n",
      "|has_downgraded|count(DISTINCT userid)|\n",
      "+--------------+----------------------+\n",
      "|             1|                   154|\n",
      "|             0|                    71|\n",
      "+--------------+----------------------+\n",
      "\n"
     ]
    }
   ],
   "source": [
    "# check for num of downgraded users\n",
    "df_clean.groupBy(\"has_downgraded\").agg(countDistinct('userid')).show()"
   ]
  },
  {
   "cell_type": "markdown",
   "metadata": {},
   "source": [
    "`.` all rows/interactions made to users who downgraded will return `has_downgraded ==1`\n",
    "\n",
    "`.` it will be interesting to look at if users who churned did downgrade before. It might be a sign user is about to leave.\n"
   ]
  },
  {
   "cell_type": "code",
   "execution_count": 24,
   "metadata": {},
   "outputs": [
    {
     "data": {
      "text/html": [
       "<div>\n",
       "<style scoped>\n",
       "    .dataframe tbody tr th:only-of-type {\n",
       "        vertical-align: middle;\n",
       "    }\n",
       "\n",
       "    .dataframe tbody tr th {\n",
       "        vertical-align: top;\n",
       "    }\n",
       "\n",
       "    .dataframe thead th {\n",
       "        text-align: right;\n",
       "    }\n",
       "</style>\n",
       "<table border=\"1\" class=\"dataframe\">\n",
       "  <thead>\n",
       "    <tr style=\"text-align: right;\">\n",
       "      <th></th>\n",
       "      <th>iteminsession</th>\n",
       "      <th>length</th>\n",
       "      <th>registration</th>\n",
       "      <th>sessionid</th>\n",
       "      <th>status</th>\n",
       "      <th>ts</th>\n",
       "      <th>userid</th>\n",
       "      <th>has_cancelled</th>\n",
       "      <th>has_downgraded</th>\n",
       "    </tr>\n",
       "  </thead>\n",
       "  <tbody>\n",
       "    <tr>\n",
       "      <th>count</th>\n",
       "      <td>278154.000000</td>\n",
       "      <td>228108.000000</td>\n",
       "      <td>2.781540e+05</td>\n",
       "      <td>278154.000000</td>\n",
       "      <td>278154.000000</td>\n",
       "      <td>2.781540e+05</td>\n",
       "      <td>278154.000000</td>\n",
       "      <td>278154.000000</td>\n",
       "      <td>278154.000000</td>\n",
       "    </tr>\n",
       "    <tr>\n",
       "      <th>mean</th>\n",
       "      <td>114.899182</td>\n",
       "      <td>249.117182</td>\n",
       "      <td>1.535359e+12</td>\n",
       "      <td>1042.561624</td>\n",
       "      <td>209.103216</td>\n",
       "      <td>2.021887e+08</td>\n",
       "      <td>59682.022786</td>\n",
       "      <td>0.161292</td>\n",
       "      <td>0.937308</td>\n",
       "    </tr>\n",
       "    <tr>\n",
       "      <th>std</th>\n",
       "      <td>129.851729</td>\n",
       "      <td>99.235179</td>\n",
       "      <td>3.291322e+09</td>\n",
       "      <td>726.501036</td>\n",
       "      <td>30.151389</td>\n",
       "      <td>1.252569e+09</td>\n",
       "      <td>109091.949999</td>\n",
       "      <td>0.367801</td>\n",
       "      <td>0.242408</td>\n",
       "    </tr>\n",
       "    <tr>\n",
       "      <th>min</th>\n",
       "      <td>0.000000</td>\n",
       "      <td>0.783220</td>\n",
       "      <td>1.521381e+12</td>\n",
       "      <td>1.000000</td>\n",
       "      <td>200.000000</td>\n",
       "      <td>-2.147464e+09</td>\n",
       "      <td>2.000000</td>\n",
       "      <td>0.000000</td>\n",
       "      <td>0.000000</td>\n",
       "    </tr>\n",
       "    <tr>\n",
       "      <th>25%</th>\n",
       "      <td>27.000000</td>\n",
       "      <td>199.888530</td>\n",
       "      <td>1.533522e+12</td>\n",
       "      <td>338.000000</td>\n",
       "      <td>200.000000</td>\n",
       "      <td>-8.892365e+08</td>\n",
       "      <td>51.000000</td>\n",
       "      <td>0.000000</td>\n",
       "      <td>1.000000</td>\n",
       "    </tr>\n",
       "    <tr>\n",
       "      <th>50%</th>\n",
       "      <td>70.000000</td>\n",
       "      <td>234.500770</td>\n",
       "      <td>1.536664e+12</td>\n",
       "      <td>1017.000000</td>\n",
       "      <td>200.000000</td>\n",
       "      <td>4.292007e+08</td>\n",
       "      <td>98.000000</td>\n",
       "      <td>0.000000</td>\n",
       "      <td>1.000000</td>\n",
       "    </tr>\n",
       "    <tr>\n",
       "      <th>75%</th>\n",
       "      <td>157.000000</td>\n",
       "      <td>277.158730</td>\n",
       "      <td>1.537672e+12</td>\n",
       "      <td>1675.000000</td>\n",
       "      <td>200.000000</td>\n",
       "      <td>1.329670e+09</td>\n",
       "      <td>100004.000000</td>\n",
       "      <td>0.000000</td>\n",
       "      <td>1.000000</td>\n",
       "    </tr>\n",
       "    <tr>\n",
       "      <th>max</th>\n",
       "      <td>1321.000000</td>\n",
       "      <td>3024.665670</td>\n",
       "      <td>1.543247e+12</td>\n",
       "      <td>2474.000000</td>\n",
       "      <td>404.000000</td>\n",
       "      <td>2.147455e+09</td>\n",
       "      <td>300025.000000</td>\n",
       "      <td>1.000000</td>\n",
       "      <td>1.000000</td>\n",
       "    </tr>\n",
       "  </tbody>\n",
       "</table>\n",
       "</div>"
      ],
      "text/plain": [
       "       iteminsession         length  registration      sessionid  \\\n",
       "count  278154.000000  228108.000000  2.781540e+05  278154.000000   \n",
       "mean      114.899182     249.117182  1.535359e+12    1042.561624   \n",
       "std       129.851729      99.235179  3.291322e+09     726.501036   \n",
       "min         0.000000       0.783220  1.521381e+12       1.000000   \n",
       "25%        27.000000     199.888530  1.533522e+12     338.000000   \n",
       "50%        70.000000     234.500770  1.536664e+12    1017.000000   \n",
       "75%       157.000000     277.158730  1.537672e+12    1675.000000   \n",
       "max      1321.000000    3024.665670  1.543247e+12    2474.000000   \n",
       "\n",
       "              status            ts         userid  has_cancelled  \\\n",
       "count  278154.000000  2.781540e+05  278154.000000  278154.000000   \n",
       "mean      209.103216  2.021887e+08   59682.022786       0.161292   \n",
       "std        30.151389  1.252569e+09  109091.949999       0.367801   \n",
       "min       200.000000 -2.147464e+09       2.000000       0.000000   \n",
       "25%       200.000000 -8.892365e+08      51.000000       0.000000   \n",
       "50%       200.000000  4.292007e+08      98.000000       0.000000   \n",
       "75%       200.000000  1.329670e+09  100004.000000       0.000000   \n",
       "max       404.000000  2.147455e+09  300025.000000       1.000000   \n",
       "\n",
       "       has_downgraded  \n",
       "count   278154.000000  \n",
       "mean         0.937308  \n",
       "std          0.242408  \n",
       "min          0.000000  \n",
       "25%          1.000000  \n",
       "50%          1.000000  \n",
       "75%          1.000000  \n",
       "max          1.000000  "
      ]
     },
     "execution_count": 24,
     "metadata": {},
     "output_type": "execute_result"
    }
   ],
   "source": [
    "# Descriptive statistics for numerical variables\n",
    "df_clean.select([col[0] for col in df_clean.dtypes if col[1] != 'string']).toPandas().describe()"
   ]
  },
  {
   "cell_type": "markdown",
   "metadata": {},
   "source": [
    "`.` we don't have too many insightful numerical variables.\n",
    "\n",
    "`.` `iteminsession` since its attached to sessionid, counter probably resets for every new session (i.e cold-start problem?)\n",
    "\n",
    "`.` `length` being the time (secs) a song was played.\n",
    "\n",
    "`.` other vars are not being of interest for our model, we will have to make sure to do some feature engineering work"
   ]
  },
  {
   "cell_type": "code",
   "execution_count": 25,
   "metadata": {},
   "outputs": [],
   "source": [
    "# create view 'sparkify_users_interactions_churn' to use sql\n",
    "df_clean.createOrReplaceTempView(\"sparkify_users_interactions_churn\")"
   ]
  },
  {
   "cell_type": "markdown",
   "metadata": {},
   "source": [
    "### `1.` Overall churn rate"
   ]
  },
  {
   "cell_type": "code",
   "execution_count": 26,
   "metadata": {},
   "outputs": [
    {
     "data": {
      "image/png": "[encoded data removed]",
      "text/plain": [
       "<matplotlib.figure.Figure at 0x7facc9234358>"
      ]
     },
     "metadata": {
      "needs_background": "light"
     },
     "output_type": "display_data"
    },
    {
     "name": "stdout",
     "output_type": "stream",
     "text": [
      "Churn rate in dataset is 23%\n"
     ]
    }
   ],
   "source": [
    "q1 = spark.sql('''\n",
    "        SELECT has_cancelled as has_churned\n",
    "                ,count(distinct userid) as num_users\n",
    "        FROM sparkify_users_interactions_churn\n",
    "\n",
    "     group by 1\n",
    "\n",
    "''').toPandas()\n",
    "\n",
    "\n",
    "sns.barplot(x = 'has_churned',y='num_users', data = q1, palette = 'magma')\n",
    "plt.title('Distribution of churn/not churn users')\n",
    "plt.show()\n",
    "\n",
    "\n",
    "# compute churn rate\n",
    "churn_rate = q1.loc[q1['has_churned']==1, 'num_users'].sum()/ q1.num_users.sum()\n",
    "\n",
    "print(\"Churn rate in dataset is\",\"{:.0%}\".format(churn_rate))\n",
    "\n"
   ]
  },
  {
   "cell_type": "markdown",
   "metadata": {},
   "source": [
    "`.` with a churn rate of 23% one can consider we are dealing with an unbalanced class. it might have an impact during for the evaluation of our model, f1 will have to be computed and balance with accuracy score."
   ]
  },
  {
   "cell_type": "markdown",
   "metadata": {},
   "source": [
    "### `2.` Churn rate by gender\n"
   ]
  },
  {
   "cell_type": "code",
   "execution_count": 27,
   "metadata": {},
   "outputs": [
    {
     "data": {
      "image/png": "[encoded data removed]",
      "text/plain": [
       "<matplotlib.figure.Figure at 0x7fac7f314c88>"
      ]
     },
     "metadata": {
      "needs_background": "light"
     },
     "output_type": "display_data"
    },
    {
     "name": "stdout",
     "output_type": "stream",
     "text": [
      "Churn rate in dataset for female is of: 19%\n",
      "Churn rate in datasetfor male is of: 26%\n"
     ]
    }
   ],
   "source": [
    "\n",
    "q2 = spark.sql('''\n",
    "        SELECT gender,\n",
    "        has_cancelled as has_churned,\n",
    "        userid\n",
    "        FROM sparkify_users_interactions_churn\n",
    "    \n",
    "    group by 1,2,3\n",
    "''').toPandas()\n",
    "\n",
    "\n",
    "sns.countplot(x = 'gender', hue = 'has_churned', data = q2, palette = 'magma')\n",
    "plt.title('Distribution churned users by gender')\n",
    "plt.show()\n",
    "\n",
    "\n",
    "# compute churn rate by gender\n",
    "churn_rate_gender = q2.loc[q2['has_churned'] == 1].groupby('gender')['userid'].count()/ q2.groupby('gender')['userid'].count()\n",
    "\n",
    "print(\"Churn rate in dataset for female is of:\", \"{:.0%}\".format(churn_rate_gender[0]))\n",
    "print(\"Churn rate in datasetfor male is of:\", \"{:.0%}\".format(churn_rate_gender[1]))\n"
   ]
  },
  {
   "cell_type": "markdown",
   "metadata": {},
   "source": [
    "`.` significant difference of churn rate between male and female users. definitely a variable to add to our model"
   ]
  },
  {
   "cell_type": "markdown",
   "metadata": {},
   "source": [
    "### `3.` Churn rate by level/subscription type\n"
   ]
  },
  {
   "cell_type": "code",
   "execution_count": 28,
   "metadata": {},
   "outputs": [
    {
     "data": {
      "image/png": "[encoded data removed]",
      "text/plain": [
       "<matplotlib.figure.Figure at 0x7facd9b5c908>"
      ]
     },
     "metadata": {
      "needs_background": "light"
     },
     "output_type": "display_data"
    },
    {
     "name": "stdout",
     "output_type": "stream",
     "text": [
      "Churn rate in dataset for paid subscription users is of: 24%\n",
      "Churn rate in datasetfor free subscription users is of: 22%\n"
     ]
    }
   ],
   "source": [
    "q3 = spark.sql('''\n",
    "        SELECT level,\n",
    "        has_cancelled as has_churned,\n",
    "        userid\n",
    "        FROM sparkify_users_interactions_churn\n",
    "    group by 1,2,3\n",
    "''').toPandas()\n",
    "\n",
    "\n",
    "sns.countplot(x = 'level', hue = 'has_churned', data = q3, palette = 'magma')\n",
    "plt.title('Distribution of users by subscription type')\n",
    "plt.show()\n",
    "\n",
    "\n",
    "# compute churn rate by level\n",
    "churn_rate_level = q3.loc[q3['has_churned'] == 1].groupby('level')['userid'].count()/ q3.groupby('level')['userid'].count()\n",
    "\n",
    "print(\"Churn rate in dataset for paid subscription users is of:\", \"{:.0%}\".format(churn_rate_level[0]))\n",
    "print(\"Churn rate in datasetfor free subscription users is of:\", \"{:.0%}\".format(churn_rate_level[1]))\n"
   ]
  },
  {
   "cell_type": "markdown",
   "metadata": {},
   "source": [
    "`.` surprisingly, one would have expected greater difference between the two group since the latter is served advertising \n",
    "that can be considered as \"disturbing\""
   ]
  },
  {
   "cell_type": "markdown",
   "metadata": {},
   "source": [
    "### `4.`Item played in session\n"
   ]
  },
  {
   "cell_type": "code",
   "execution_count": 29,
   "metadata": {},
   "outputs": [
    {
     "data": {
      "image/png": "[encoded data removed]",
      "text/plain": [
       "<matplotlib.figure.Figure at 0x7facc8ee0550>"
      ]
     },
     "metadata": {
      "needs_background": "light"
     },
     "output_type": "display_data"
    }
   ],
   "source": [
    "# viz iteminsession\n",
    "q4 = spark.sql('''\n",
    "        SELECT iteminsession\n",
    "        FROM sparkify_users_interactions_churn\n",
    "        ''').toPandas()\n",
    "\n",
    "\n",
    "sns.boxplot(q4);"
   ]
  },
  {
   "cell_type": "markdown",
   "metadata": {},
   "source": [
    "`.` As expected from summary statistics displayed above, distribution of our variable is positively skewed to the right with an average \n",
    "of 115 iteminsession but still many users located under value reported as first quartile (27).\n",
    "\n",
    "`.` New users would probably be \"penalised\" as counter would necessarly start at 0, this might be misleading for our models."
   ]
  },
  {
   "cell_type": "markdown",
   "metadata": {},
   "source": [
    "### `5.` Users's age in platform\n"
   ]
  },
  {
   "cell_type": "code",
   "execution_count": 30,
   "metadata": {},
   "outputs": [],
   "source": [
    "# create new column registering diff in days since user signed up\n",
    "df_clean = df_clean.withColumn(\"num_days_since_signup\", datediff(col(\"event_timedate\"),col(\"registration_timedate\")))\n"
   ]
  },
  {
   "cell_type": "code",
   "execution_count": 31,
   "metadata": {},
   "outputs": [],
   "source": [
    "# update table with new col\n",
    "df_clean.createOrReplaceTempView(\"sparkify_users_interactions_churn\")"
   ]
  },
  {
   "cell_type": "code",
   "execution_count": 32,
   "metadata": {},
   "outputs": [
    {
     "data": {
      "image/png": "[encoded data removed]",
      "text/plain": [
       "<matplotlib.figure.Figure at 0x7fac9fad1160>"
      ]
     },
     "metadata": {
      "needs_background": "light"
     },
     "output_type": "display_data"
    }
   ],
   "source": [
    "q5 = spark.sql('''\n",
    "        SELECT DISTINCT userid, MAX(num_days_since_signup) as max_num_days_since_signup\n",
    "        FROM sparkify_users_interactions_churn\n",
    "        GROUP BY userid\n",
    "        \n",
    "        ''').toPandas()\n",
    "\n",
    "sns.distplot(q5.max_num_days_since_signup);\n",
    "\n",
    "plt.title('Distribution of users per num of days since signup')\n",
    "plt.show()"
   ]
  },
  {
   "cell_type": "code",
   "execution_count": 33,
   "metadata": {
    "scrolled": true
   },
   "outputs": [
    {
     "data": {
      "image/png": "[encoded data removed]",
      "text/plain": [
       "<matplotlib.figure.Figure at 0x7fac845416a0>"
      ]
     },
     "metadata": {
      "needs_background": "light"
     },
     "output_type": "display_data"
    },
    {
     "data": {
      "image/png": "[encoded data removed]",
      "text/plain": [
       "<matplotlib.figure.Figure at 0x7facc8425940>"
      ]
     },
     "metadata": {
      "needs_background": "light"
     },
     "output_type": "display_data"
    }
   ],
   "source": [
    "q5 = spark.sql('''\n",
    "        SELECT DISTINCT userid, MAX(num_days_since_signup) as max_num_days_since_signup\n",
    "        FROM sparkify_users_interactions_churn\n",
    "        Where has_cancelled = 1\n",
    "        GROUP BY userid\n",
    "        \n",
    "        ''').toPandas()\n",
    "\n",
    "sns.distplot(q5.max_num_days_since_signup);\n",
    "\n",
    "plt.title('Distribution of churned users per num of days since signup')\n",
    "plt.show()\n",
    "\n",
    "q6 = spark.sql('''\n",
    "        SELECT DISTINCT userid, MAX(num_days_since_signup) as max_num_days_since_signup\n",
    "        FROM sparkify_users_interactions_churn\n",
    "        Where has_cancelled = 0\n",
    "        GROUP BY userid\n",
    "        \n",
    "        ''').toPandas()\n",
    "\n",
    "sns.distplot(q6.max_num_days_since_signup);\n",
    "\n",
    "plt.title('Distribution of non churned users per num of days since signup')\n",
    "plt.show()"
   ]
  },
  {
   "cell_type": "code",
   "execution_count": 34,
   "metadata": {},
   "outputs": [
    {
     "data": {
      "text/html": [
       "<div>\n",
       "<style scoped>\n",
       "    .dataframe tbody tr th:only-of-type {\n",
       "        vertical-align: middle;\n",
       "    }\n",
       "\n",
       "    .dataframe tbody tr th {\n",
       "        vertical-align: top;\n",
       "    }\n",
       "\n",
       "    .dataframe thead th {\n",
       "        text-align: right;\n",
       "    }\n",
       "</style>\n",
       "<table border=\"1\" class=\"dataframe\">\n",
       "  <thead>\n",
       "    <tr style=\"text-align: right;\">\n",
       "      <th></th>\n",
       "      <th>userid</th>\n",
       "      <th>max_num_days_since_signup</th>\n",
       "    </tr>\n",
       "  </thead>\n",
       "  <tbody>\n",
       "    <tr>\n",
       "      <th>count</th>\n",
       "      <td>52.000000</td>\n",
       "      <td>52.000000</td>\n",
       "    </tr>\n",
       "    <tr>\n",
       "      <th>mean</th>\n",
       "      <td>80808.423077</td>\n",
       "      <td>57.365385</td>\n",
       "    </tr>\n",
       "    <tr>\n",
       "      <th>std</th>\n",
       "      <td>86381.677066</td>\n",
       "      <td>36.587809</td>\n",
       "    </tr>\n",
       "    <tr>\n",
       "      <th>min</th>\n",
       "      <td>3.000000</td>\n",
       "      <td>5.000000</td>\n",
       "    </tr>\n",
       "    <tr>\n",
       "      <th>25%</th>\n",
       "      <td>83.500000</td>\n",
       "      <td>30.500000</td>\n",
       "    </tr>\n",
       "    <tr>\n",
       "      <th>50%</th>\n",
       "      <td>100005.500000</td>\n",
       "      <td>51.500000</td>\n",
       "    </tr>\n",
       "    <tr>\n",
       "      <th>75%</th>\n",
       "      <td>100023.250000</td>\n",
       "      <td>73.750000</td>\n",
       "    </tr>\n",
       "    <tr>\n",
       "      <th>max</th>\n",
       "      <td>300007.000000</td>\n",
       "      <td>188.000000</td>\n",
       "    </tr>\n",
       "  </tbody>\n",
       "</table>\n",
       "</div>"
      ],
      "text/plain": [
       "              userid  max_num_days_since_signup\n",
       "count      52.000000                  52.000000\n",
       "mean    80808.423077                  57.365385\n",
       "std     86381.677066                  36.587809\n",
       "min         3.000000                   5.000000\n",
       "25%        83.500000                  30.500000\n",
       "50%    100005.500000                  51.500000\n",
       "75%    100023.250000                  73.750000\n",
       "max    300007.000000                 188.000000"
      ]
     },
     "execution_count": 34,
     "metadata": {},
     "output_type": "execute_result"
    }
   ],
   "source": [
    "q5.describe()"
   ]
  },
  {
   "cell_type": "markdown",
   "metadata": {},
   "source": [
    "`.` Interesting how the two distribution difer, one fourth of our churned users did have less than a month of activity in platform. this can be useful to modify some campaigns targeting users acquisition. \n"
   ]
  },
  {
   "cell_type": "markdown",
   "metadata": {},
   "source": [
    "### `7.` Positive interactions in platform\n"
   ]
  },
  {
   "cell_type": "markdown",
   "metadata": {},
   "source": [
    "`.` we first need to identify which events/pages should be considered as positive or negative interactions"
   ]
  },
  {
   "cell_type": "code",
   "execution_count": 35,
   "metadata": {},
   "outputs": [],
   "source": [
    "# Define meaningful positive/negative interactions\n",
    "\n",
    "positive_experience = ['Add Friend','Add to Playlist','NextSong','Thumbs Up']\n",
    "negative_experience = ['Error','Submit Downgrade','Thumbs Down','Help']"
   ]
  },
  {
   "cell_type": "code",
   "execution_count": 36,
   "metadata": {},
   "outputs": [
    {
     "data": {
      "image/png": "[encoded data removed]",
      "text/plain": [
       "<matplotlib.figure.Figure at 0x7fac75fee0b8>"
      ]
     },
     "metadata": {
      "needs_background": "light"
     },
     "output_type": "display_data"
    },
    {
     "name": "stdout",
     "output_type": "stream",
     "text": [
      "Percentage of positive interactions for non-churned users: 89%\n",
      "Percentage of positive interactions churned users: 91%\n"
     ]
    }
   ],
   "source": [
    "# Percentage of positive & negative interactions for churn\n",
    "\n",
    "q7 = spark.sql('''\n",
    "        SELECT has_cancelled as has_churned\n",
    "                ,(count(case when page in ('Add Friend','Add to Playlist','NextSong','Thumbs Up') then 1 else null end)/ count(*)) as perc_positive_interactions\n",
    "\n",
    "        FROM sparkify_users_interactions_churn\n",
    "     group by 1\n",
    "\n",
    "''').toPandas()\n",
    "\n",
    "\n",
    "sns.barplot(x = 'has_churned',y='perc_positive_interactions', data = q7, palette = 'magma')\n",
    "plt.title('Percentage positive interactions')\n",
    "plt.show()\n",
    "\n",
    "\n",
    "\n",
    "print(\"Percentage of positive interactions for non-churned users:\", \"{:.0%}\".format(q7.values[0][1]))\n",
    "print(\"Percentage of positive interactions churned users:\", \"{:.0%}\".format(q7.values[1][1]))\n",
    "\n"
   ]
  },
  {
   "cell_type": "markdown",
   "metadata": {},
   "source": [
    "`.` Difference between the two groups surprisingly lower than one could expect. we should probably treat each of these interactions individually in our models.\n",
    "\n",
    "`.` Results are probably due to the fact we are taking into account all interactions/events as total."
   ]
  },
  {
   "cell_type": "markdown",
   "metadata": {},
   "source": [
    "### `8.` Location"
   ]
  },
  {
   "cell_type": "markdown",
   "metadata": {},
   "source": [
    "`.` after identifying all our users in dataset are located in the US, one can see it's possible to extract the state from the location string."
   ]
  },
  {
   "cell_type": "code",
   "execution_count": 37,
   "metadata": {},
   "outputs": [],
   "source": [
    "# state placed at the very end of string\n",
    "get_location_state = udf(lambda x: x[-2:])\n",
    "\n",
    "df_clean = df_clean.withColumn(\"state\",get_location_state(df_clean.location))\n"
   ]
  },
  {
   "cell_type": "code",
   "execution_count": 38,
   "metadata": {},
   "outputs": [],
   "source": [
    "# update table with new col\n",
    "df_clean.createOrReplaceTempView(\"sparkify_users_interactions_churn\")"
   ]
  },
  {
   "cell_type": "code",
   "execution_count": 39,
   "metadata": {},
   "outputs": [
    {
     "data": {
      "image/png": "[encoded data removed]",
      "text/plain": [
       "<matplotlib.figure.Figure at 0x7fac76bdc7f0>"
      ]
     },
     "metadata": {
      "needs_background": "light"
     },
     "output_type": "display_data"
    }
   ],
   "source": [
    "\n",
    "q8 = spark.sql('''\n",
    "        SELECT has_cancelled as has_churned\n",
    "                ,state\n",
    "                ,count(distinct userid) as num_users\n",
    "\n",
    "        FROM sparkify_users_interactions_churn\n",
    "     group by 1,2\n",
    "\n",
    "''').toPandas()\n",
    "\n",
    "\n",
    "plt.figure(figsize=[20,16])\n",
    "sns.barplot(x = 'num_users',y='state', hue='has_churned', data = q8, palette = 'magma')\n",
    "plt.title('Distribution of users per US state')\n",
    "plt.show()\n",
    "\n"
   ]
  },
  {
   "cell_type": "markdown",
   "metadata": {},
   "source": [
    "`.` interesting but will be hard to extract feature out of it. Most of churned are located in FL, PA and TX but those are stated where we account for most of our users.\n",
    "\n",
    "`.` MI, KY, OH on the other hand have more churned than non-churned. This is interesting."
   ]
  },
  {
   "cell_type": "markdown",
   "metadata": {},
   "source": [
    "# <a class=\"anchor\" id=\"feateng\">4. Features engineering</a>"
   ]
  },
  {
   "cell_type": "markdown",
   "metadata": {},
   "source": [
    "\n",
    "Once you've familiarized yourself with the data, build out the features you find promising to train your model on. To work with the full dataset, you can follow the following steps.\n",
    "- Write a script to extract the necessary features from the smaller subset of data\n",
    "- Ensure that your script is scalable, using the best practices discussed in Lesson 3\n",
    "- Try your script on the full data set, debugging your script if necessary\n",
    "\n",
    "If you are working in the classroom workspace, you can just extract features based on the small subset of data contained here. Be sure to transfer over this work to the larger dataset when you work on your Spark cluster."
   ]
  },
  {
   "cell_type": "code",
   "execution_count": 40,
   "metadata": {},
   "outputs": [
    {
     "name": "stdout",
     "output_type": "stream",
     "text": [
      "root\n",
      " |-- artist: string (nullable = true)\n",
      " |-- auth: string (nullable = true)\n",
      " |-- firstname: string (nullable = true)\n",
      " |-- gender: string (nullable = true)\n",
      " |-- iteminsession: long (nullable = true)\n",
      " |-- lastname: string (nullable = true)\n",
      " |-- length: double (nullable = true)\n",
      " |-- level: string (nullable = true)\n",
      " |-- location: string (nullable = true)\n",
      " |-- method: string (nullable = true)\n",
      " |-- page: string (nullable = true)\n",
      " |-- registration: long (nullable = true)\n",
      " |-- sessionid: long (nullable = true)\n",
      " |-- song: string (nullable = true)\n",
      " |-- status: long (nullable = true)\n",
      " |-- ts: integer (nullable = true)\n",
      " |-- useragent: string (nullable = true)\n",
      " |-- userid: integer (nullable = true)\n",
      " |-- event_timedate: string (nullable = true)\n",
      " |-- registration_timedate: string (nullable = true)\n",
      " |-- has_cancelled: integer (nullable = false)\n",
      " |-- has_downgraded: integer (nullable = false)\n",
      " |-- num_days_since_signup: integer (nullable = true)\n",
      " |-- state: string (nullable = true)\n",
      "\n"
     ]
    }
   ],
   "source": [
    "df_clean.printSchema()"
   ]
  },
  {
   "cell_type": "markdown",
   "metadata": {},
   "source": [
    "### 1. String indexer"
   ]
  },
  {
   "cell_type": "markdown",
   "metadata": {},
   "source": [
    "`.` StringIndexer encodes a string column of labels to a column of label indices. The indices are ordered by label frequencies. Most frequent label gets index 0, see [here](https://spark.apache.org/docs/1.4.1/ml-features.html#stringindexer)     "
   ]
  },
  {
   "cell_type": "code",
   "execution_count": 41,
   "metadata": {},
   "outputs": [],
   "source": [
    "# String indexer\n",
    "SI_gender = StringIndexer(inputCol='gender',outputCol='gender_index')\n",
    "SI_level = StringIndexer(inputCol='level',outputCol='level_index')\n",
    "SI_auth = StringIndexer(inputCol='auth',outputCol='auth_index')\n",
    "SI_state = StringIndexer(inputCol='state',outputCol='state_index')\n",
    "#SI_page = StringIndexer(inputCol='page',outputCol='page_index')"
   ]
  },
  {
   "cell_type": "code",
   "execution_count": 42,
   "metadata": {},
   "outputs": [],
   "source": [
    "df_clean = SI_gender.fit(df_clean).transform(df_clean)\n",
    "df_clean = SI_level.fit(df_clean).transform(df_clean)\n",
    "df_clean = SI_auth.fit(df_clean).transform(df_clean)\n",
    "df_clean = SI_state.fit(df_clean).transform(df_clean)\n",
    "#df_clean = SI_page.fit(df_clean).transform(df_clean)"
   ]
  },
  {
   "cell_type": "code",
   "execution_count": 43,
   "metadata": {},
   "outputs": [
    {
     "data": {
      "text/html": [
       "<div>\n",
       "<style scoped>\n",
       "    .dataframe tbody tr th:only-of-type {\n",
       "        vertical-align: middle;\n",
       "    }\n",
       "\n",
       "    .dataframe tbody tr th {\n",
       "        vertical-align: top;\n",
       "    }\n",
       "\n",
       "    .dataframe thead th {\n",
       "        text-align: right;\n",
       "    }\n",
       "</style>\n",
       "<table border=\"1\" class=\"dataframe\">\n",
       "  <thead>\n",
       "    <tr style=\"text-align: right;\">\n",
       "      <th></th>\n",
       "      <th>artist</th>\n",
       "      <th>auth</th>\n",
       "      <th>firstname</th>\n",
       "      <th>gender</th>\n",
       "      <th>iteminsession</th>\n",
       "      <th>lastname</th>\n",
       "      <th>length</th>\n",
       "      <th>level</th>\n",
       "      <th>location</th>\n",
       "      <th>method</th>\n",
       "      <th>...</th>\n",
       "      <th>event_timedate</th>\n",
       "      <th>registration_timedate</th>\n",
       "      <th>has_cancelled</th>\n",
       "      <th>has_downgraded</th>\n",
       "      <th>num_days_since_signup</th>\n",
       "      <th>state</th>\n",
       "      <th>gender_index</th>\n",
       "      <th>level_index</th>\n",
       "      <th>auth_index</th>\n",
       "      <th>state_index</th>\n",
       "    </tr>\n",
       "  </thead>\n",
       "  <tbody>\n",
       "    <tr>\n",
       "      <th>0</th>\n",
       "      <td>The Offspring</td>\n",
       "      <td>Logged In</td>\n",
       "      <td>Natalee</td>\n",
       "      <td>F</td>\n",
       "      <td>0</td>\n",
       "      <td>Charles</td>\n",
       "      <td>168.30649</td>\n",
       "      <td>paid</td>\n",
       "      <td>Raleigh, NC</td>\n",
       "      <td>PUT</td>\n",
       "      <td>...</td>\n",
       "      <td>2018-10-27 16:44:43</td>\n",
       "      <td>2018-09-13 00:49:30</td>\n",
       "      <td>0</td>\n",
       "      <td>1</td>\n",
       "      <td>44</td>\n",
       "      <td>NC</td>\n",
       "      <td>0.0</td>\n",
       "      <td>0.0</td>\n",
       "      <td>0.0</td>\n",
       "      <td>5.0</td>\n",
       "    </tr>\n",
       "    <tr>\n",
       "      <th>1</th>\n",
       "      <td>Slakah the Beatchild Feat. Drake</td>\n",
       "      <td>Logged In</td>\n",
       "      <td>Natalee</td>\n",
       "      <td>F</td>\n",
       "      <td>1</td>\n",
       "      <td>Charles</td>\n",
       "      <td>227.00363</td>\n",
       "      <td>paid</td>\n",
       "      <td>Raleigh, NC</td>\n",
       "      <td>PUT</td>\n",
       "      <td>...</td>\n",
       "      <td>2018-10-27 16:47:31</td>\n",
       "      <td>2018-09-13 00:49:30</td>\n",
       "      <td>0</td>\n",
       "      <td>1</td>\n",
       "      <td>44</td>\n",
       "      <td>NC</td>\n",
       "      <td>0.0</td>\n",
       "      <td>0.0</td>\n",
       "      <td>0.0</td>\n",
       "      <td>5.0</td>\n",
       "    </tr>\n",
       "    <tr>\n",
       "      <th>2</th>\n",
       "      <td>Paramore</td>\n",
       "      <td>Logged In</td>\n",
       "      <td>Natalee</td>\n",
       "      <td>F</td>\n",
       "      <td>2</td>\n",
       "      <td>Charles</td>\n",
       "      <td>209.42322</td>\n",
       "      <td>paid</td>\n",
       "      <td>Raleigh, NC</td>\n",
       "      <td>PUT</td>\n",
       "      <td>...</td>\n",
       "      <td>2018-10-27 16:51:18</td>\n",
       "      <td>2018-09-13 00:49:30</td>\n",
       "      <td>0</td>\n",
       "      <td>1</td>\n",
       "      <td>44</td>\n",
       "      <td>NC</td>\n",
       "      <td>0.0</td>\n",
       "      <td>0.0</td>\n",
       "      <td>0.0</td>\n",
       "      <td>5.0</td>\n",
       "    </tr>\n",
       "    <tr>\n",
       "      <th>3</th>\n",
       "      <td>ManÃÂ¡</td>\n",
       "      <td>Logged In</td>\n",
       "      <td>Natalee</td>\n",
       "      <td>F</td>\n",
       "      <td>3</td>\n",
       "      <td>Charles</td>\n",
       "      <td>307.72200</td>\n",
       "      <td>paid</td>\n",
       "      <td>Raleigh, NC</td>\n",
       "      <td>PUT</td>\n",
       "      <td>...</td>\n",
       "      <td>2018-10-27 16:54:47</td>\n",
       "      <td>2018-09-13 00:49:30</td>\n",
       "      <td>0</td>\n",
       "      <td>1</td>\n",
       "      <td>44</td>\n",
       "      <td>NC</td>\n",
       "      <td>0.0</td>\n",
       "      <td>0.0</td>\n",
       "      <td>0.0</td>\n",
       "      <td>5.0</td>\n",
       "    </tr>\n",
       "    <tr>\n",
       "      <th>4</th>\n",
       "      <td>Taylor Swift</td>\n",
       "      <td>Logged In</td>\n",
       "      <td>Natalee</td>\n",
       "      <td>F</td>\n",
       "      <td>4</td>\n",
       "      <td>Charles</td>\n",
       "      <td>238.99383</td>\n",
       "      <td>paid</td>\n",
       "      <td>Raleigh, NC</td>\n",
       "      <td>PUT</td>\n",
       "      <td>...</td>\n",
       "      <td>2018-10-27 16:59:54</td>\n",
       "      <td>2018-09-13 00:49:30</td>\n",
       "      <td>0</td>\n",
       "      <td>1</td>\n",
       "      <td>44</td>\n",
       "      <td>NC</td>\n",
       "      <td>0.0</td>\n",
       "      <td>0.0</td>\n",
       "      <td>0.0</td>\n",
       "      <td>5.0</td>\n",
       "    </tr>\n",
       "  </tbody>\n",
       "</table>\n",
       "<p>5 rows × 28 columns</p>\n",
       "</div>"
      ],
      "text/plain": [
       "                             artist       auth firstname gender  \\\n",
       "0                     The Offspring  Logged In   Natalee      F   \n",
       "1  Slakah the Beatchild Feat. Drake  Logged In   Natalee      F   \n",
       "2                          Paramore  Logged In   Natalee      F   \n",
       "3                           ManÃÂ¡  Logged In   Natalee      F   \n",
       "4                      Taylor Swift  Logged In   Natalee      F   \n",
       "\n",
       "   iteminsession lastname     length level     location method     ...      \\\n",
       "0              0  Charles  168.30649  paid  Raleigh, NC    PUT     ...       \n",
       "1              1  Charles  227.00363  paid  Raleigh, NC    PUT     ...       \n",
       "2              2  Charles  209.42322  paid  Raleigh, NC    PUT     ...       \n",
       "3              3  Charles  307.72200  paid  Raleigh, NC    PUT     ...       \n",
       "4              4  Charles  238.99383  paid  Raleigh, NC    PUT     ...       \n",
       "\n",
       "        event_timedate  registration_timedate  has_cancelled has_downgraded  \\\n",
       "0  2018-10-27 16:44:43    2018-09-13 00:49:30              0              1   \n",
       "1  2018-10-27 16:47:31    2018-09-13 00:49:30              0              1   \n",
       "2  2018-10-27 16:51:18    2018-09-13 00:49:30              0              1   \n",
       "3  2018-10-27 16:54:47    2018-09-13 00:49:30              0              1   \n",
       "4  2018-10-27 16:59:54    2018-09-13 00:49:30              0              1   \n",
       "\n",
       "   num_days_since_signup  state gender_index  level_index auth_index  \\\n",
       "0                     44     NC          0.0          0.0        0.0   \n",
       "1                     44     NC          0.0          0.0        0.0   \n",
       "2                     44     NC          0.0          0.0        0.0   \n",
       "3                     44     NC          0.0          0.0        0.0   \n",
       "4                     44     NC          0.0          0.0        0.0   \n",
       "\n",
       "  state_index  \n",
       "0         5.0  \n",
       "1         5.0  \n",
       "2         5.0  \n",
       "3         5.0  \n",
       "4         5.0  \n",
       "\n",
       "[5 rows x 28 columns]"
      ]
     },
     "execution_count": 43,
     "metadata": {},
     "output_type": "execute_result"
    }
   ],
   "source": [
    "df_clean.toPandas().head()"
   ]
  },
  {
   "cell_type": "markdown",
   "metadata": {},
   "source": [
    "### 2. One hot encoder"
   ]
  },
  {
   "cell_type": "code",
   "execution_count": 44,
   "metadata": {},
   "outputs": [],
   "source": [
    "\n",
    "OHE = OneHotEncoder(inputCol='gender_index',outputCol='gender_ohe')\n",
    "df_clean = OHE.transform(df_clean)\n",
    "\n",
    "OHE = OneHotEncoder(inputCol='level_index',outputCol='level_ohe')\n",
    "df_clean = OHE.transform(df_clean)\n",
    "\n",
    "OHE = OneHotEncoder(inputCol='auth_index',outputCol='auth_ohe')\n",
    "df_clean = OHE.transform(df_clean)\n",
    "\n",
    "OHE = OneHotEncoder(inputCol='state_index',outputCol='state_ohe')\n",
    "df_clean = OHE.transform(df_clean)\n",
    "\n",
    "\n",
    "#OHE = OneHotEncoder(inputCol='page_index',outputCol='page_ohe')\n",
    "#df_clean = OHE.transform(df_clean)\n"
   ]
  },
  {
   "cell_type": "code",
   "execution_count": 45,
   "metadata": {},
   "outputs": [
    {
     "data": {
      "text/html": [
       "<div>\n",
       "<style scoped>\n",
       "    .dataframe tbody tr th:only-of-type {\n",
       "        vertical-align: middle;\n",
       "    }\n",
       "\n",
       "    .dataframe tbody tr th {\n",
       "        vertical-align: top;\n",
       "    }\n",
       "\n",
       "    .dataframe thead th {\n",
       "        text-align: right;\n",
       "    }\n",
       "</style>\n",
       "<table border=\"1\" class=\"dataframe\">\n",
       "  <thead>\n",
       "    <tr style=\"text-align: right;\">\n",
       "      <th></th>\n",
       "      <th>artist</th>\n",
       "      <th>auth</th>\n",
       "      <th>firstname</th>\n",
       "      <th>gender</th>\n",
       "      <th>iteminsession</th>\n",
       "      <th>lastname</th>\n",
       "      <th>length</th>\n",
       "      <th>level</th>\n",
       "      <th>location</th>\n",
       "      <th>method</th>\n",
       "      <th>...</th>\n",
       "      <th>num_days_since_signup</th>\n",
       "      <th>state</th>\n",
       "      <th>gender_index</th>\n",
       "      <th>level_index</th>\n",
       "      <th>auth_index</th>\n",
       "      <th>state_index</th>\n",
       "      <th>gender_ohe</th>\n",
       "      <th>level_ohe</th>\n",
       "      <th>auth_ohe</th>\n",
       "      <th>state_ohe</th>\n",
       "    </tr>\n",
       "  </thead>\n",
       "  <tbody>\n",
       "    <tr>\n",
       "      <th>0</th>\n",
       "      <td>The Offspring</td>\n",
       "      <td>Logged In</td>\n",
       "      <td>Natalee</td>\n",
       "      <td>F</td>\n",
       "      <td>0</td>\n",
       "      <td>Charles</td>\n",
       "      <td>168.30649</td>\n",
       "      <td>paid</td>\n",
       "      <td>Raleigh, NC</td>\n",
       "      <td>PUT</td>\n",
       "      <td>...</td>\n",
       "      <td>44</td>\n",
       "      <td>NC</td>\n",
       "      <td>0.0</td>\n",
       "      <td>0.0</td>\n",
       "      <td>0.0</td>\n",
       "      <td>5.0</td>\n",
       "      <td>(1.0)</td>\n",
       "      <td>(1.0)</td>\n",
       "      <td>(1.0)</td>\n",
       "      <td>(0.0, 0.0, 0.0, 0.0, 0.0, 1.0, 0.0, 0.0, 0.0, ...</td>\n",
       "    </tr>\n",
       "    <tr>\n",
       "      <th>1</th>\n",
       "      <td>Slakah the Beatchild Feat. Drake</td>\n",
       "      <td>Logged In</td>\n",
       "      <td>Natalee</td>\n",
       "      <td>F</td>\n",
       "      <td>1</td>\n",
       "      <td>Charles</td>\n",
       "      <td>227.00363</td>\n",
       "      <td>paid</td>\n",
       "      <td>Raleigh, NC</td>\n",
       "      <td>PUT</td>\n",
       "      <td>...</td>\n",
       "      <td>44</td>\n",
       "      <td>NC</td>\n",
       "      <td>0.0</td>\n",
       "      <td>0.0</td>\n",
       "      <td>0.0</td>\n",
       "      <td>5.0</td>\n",
       "      <td>(1.0)</td>\n",
       "      <td>(1.0)</td>\n",
       "      <td>(1.0)</td>\n",
       "      <td>(0.0, 0.0, 0.0, 0.0, 0.0, 1.0, 0.0, 0.0, 0.0, ...</td>\n",
       "    </tr>\n",
       "    <tr>\n",
       "      <th>2</th>\n",
       "      <td>Paramore</td>\n",
       "      <td>Logged In</td>\n",
       "      <td>Natalee</td>\n",
       "      <td>F</td>\n",
       "      <td>2</td>\n",
       "      <td>Charles</td>\n",
       "      <td>209.42322</td>\n",
       "      <td>paid</td>\n",
       "      <td>Raleigh, NC</td>\n",
       "      <td>PUT</td>\n",
       "      <td>...</td>\n",
       "      <td>44</td>\n",
       "      <td>NC</td>\n",
       "      <td>0.0</td>\n",
       "      <td>0.0</td>\n",
       "      <td>0.0</td>\n",
       "      <td>5.0</td>\n",
       "      <td>(1.0)</td>\n",
       "      <td>(1.0)</td>\n",
       "      <td>(1.0)</td>\n",
       "      <td>(0.0, 0.0, 0.0, 0.0, 0.0, 1.0, 0.0, 0.0, 0.0, ...</td>\n",
       "    </tr>\n",
       "    <tr>\n",
       "      <th>3</th>\n",
       "      <td>ManÃÂ¡</td>\n",
       "      <td>Logged In</td>\n",
       "      <td>Natalee</td>\n",
       "      <td>F</td>\n",
       "      <td>3</td>\n",
       "      <td>Charles</td>\n",
       "      <td>307.72200</td>\n",
       "      <td>paid</td>\n",
       "      <td>Raleigh, NC</td>\n",
       "      <td>PUT</td>\n",
       "      <td>...</td>\n",
       "      <td>44</td>\n",
       "      <td>NC</td>\n",
       "      <td>0.0</td>\n",
       "      <td>0.0</td>\n",
       "      <td>0.0</td>\n",
       "      <td>5.0</td>\n",
       "      <td>(1.0)</td>\n",
       "      <td>(1.0)</td>\n",
       "      <td>(1.0)</td>\n",
       "      <td>(0.0, 0.0, 0.0, 0.0, 0.0, 1.0, 0.0, 0.0, 0.0, ...</td>\n",
       "    </tr>\n",
       "    <tr>\n",
       "      <th>4</th>\n",
       "      <td>Taylor Swift</td>\n",
       "      <td>Logged In</td>\n",
       "      <td>Natalee</td>\n",
       "      <td>F</td>\n",
       "      <td>4</td>\n",
       "      <td>Charles</td>\n",
       "      <td>238.99383</td>\n",
       "      <td>paid</td>\n",
       "      <td>Raleigh, NC</td>\n",
       "      <td>PUT</td>\n",
       "      <td>...</td>\n",
       "      <td>44</td>\n",
       "      <td>NC</td>\n",
       "      <td>0.0</td>\n",
       "      <td>0.0</td>\n",
       "      <td>0.0</td>\n",
       "      <td>5.0</td>\n",
       "      <td>(1.0)</td>\n",
       "      <td>(1.0)</td>\n",
       "      <td>(1.0)</td>\n",
       "      <td>(0.0, 0.0, 0.0, 0.0, 0.0, 1.0, 0.0, 0.0, 0.0, ...</td>\n",
       "    </tr>\n",
       "  </tbody>\n",
       "</table>\n",
       "<p>5 rows × 32 columns</p>\n",
       "</div>"
      ],
      "text/plain": [
       "                             artist       auth firstname gender  \\\n",
       "0                     The Offspring  Logged In   Natalee      F   \n",
       "1  Slakah the Beatchild Feat. Drake  Logged In   Natalee      F   \n",
       "2                          Paramore  Logged In   Natalee      F   \n",
       "3                           ManÃÂ¡  Logged In   Natalee      F   \n",
       "4                      Taylor Swift  Logged In   Natalee      F   \n",
       "\n",
       "   iteminsession lastname     length level     location method  \\\n",
       "0              0  Charles  168.30649  paid  Raleigh, NC    PUT   \n",
       "1              1  Charles  227.00363  paid  Raleigh, NC    PUT   \n",
       "2              2  Charles  209.42322  paid  Raleigh, NC    PUT   \n",
       "3              3  Charles  307.72200  paid  Raleigh, NC    PUT   \n",
       "4              4  Charles  238.99383  paid  Raleigh, NC    PUT   \n",
       "\n",
       "                         ...                         num_days_since_signup  \\\n",
       "0                        ...                                            44   \n",
       "1                        ...                                            44   \n",
       "2                        ...                                            44   \n",
       "3                        ...                                            44   \n",
       "4                        ...                                            44   \n",
       "\n",
       "   state  gender_index level_index  auth_index  state_index gender_ohe  \\\n",
       "0     NC           0.0         0.0         0.0          5.0      (1.0)   \n",
       "1     NC           0.0         0.0         0.0          5.0      (1.0)   \n",
       "2     NC           0.0         0.0         0.0          5.0      (1.0)   \n",
       "3     NC           0.0         0.0         0.0          5.0      (1.0)   \n",
       "4     NC           0.0         0.0         0.0          5.0      (1.0)   \n",
       "\n",
       "   level_ohe auth_ohe                                          state_ohe  \n",
       "0      (1.0)    (1.0)  (0.0, 0.0, 0.0, 0.0, 0.0, 1.0, 0.0, 0.0, 0.0, ...  \n",
       "1      (1.0)    (1.0)  (0.0, 0.0, 0.0, 0.0, 0.0, 1.0, 0.0, 0.0, 0.0, ...  \n",
       "2      (1.0)    (1.0)  (0.0, 0.0, 0.0, 0.0, 0.0, 1.0, 0.0, 0.0, 0.0, ...  \n",
       "3      (1.0)    (1.0)  (0.0, 0.0, 0.0, 0.0, 0.0, 1.0, 0.0, 0.0, 0.0, ...  \n",
       "4      (1.0)    (1.0)  (0.0, 0.0, 0.0, 0.0, 0.0, 1.0, 0.0, 0.0, 0.0, ...  \n",
       "\n",
       "[5 rows x 32 columns]"
      ]
     },
     "execution_count": 45,
     "metadata": {},
     "output_type": "execute_result"
    }
   ],
   "source": [
    "df_clean.toPandas().head()"
   ]
  },
  {
   "cell_type": "code",
   "execution_count": 46,
   "metadata": {},
   "outputs": [],
   "source": [
    "# update table with new col\n",
    "df_clean.createOrReplaceTempView(\"sparkify_users_interactions_churn\")"
   ]
  },
  {
   "cell_type": "code",
   "execution_count": 47,
   "metadata": {},
   "outputs": [],
   "source": [
    "# drop cols\n",
    "#cols = [\"artist\",\"length\",\"firstname\",\"lastname\", \"length\",\"location\",\"method\",\"registration\",\"song\",\"status\"]"
   ]
  },
  {
   "cell_type": "code",
   "execution_count": 48,
   "metadata": {},
   "outputs": [],
   "source": [
    "#df_clean_model_features = df_clean.drop(*cols)"
   ]
  },
  {
   "cell_type": "code",
   "execution_count": 92,
   "metadata": {},
   "outputs": [],
   "source": [
    "features_df = spark.sql('''\n",
    "        SELECT\n",
    "         userid\n",
    "        ,has_cancelled as label\n",
    "        \n",
    "        -- encoded\n",
    "        ,gender_ohe\n",
    "        ,state_ohe\n",
    "        -- ,level_ohe\n",
    "        -- ,page_ohe\n",
    "        \n",
    "        -- num variables\n",
    "        ,max(auth_index) as max_auth_index\n",
    "        ,max(level_index) as max_level_index\n",
    "        ,max(has_downgraded) as max_has_downgraded\n",
    "        ,max(num_days_since_signup) as max_num_days_since_signup\n",
    "        ,count(distinct sessionid) as num_sessions\n",
    "        ,count(*) as num_total_interactions\n",
    "        ,count(case when page in ('Add Friend','Add to Playlist','NextSong','Thumbs Up') then 1 else null end) as num_positive_interactions\n",
    "        ,count(case when page in ('Error','Submit Downgrade','Thumbs Down','Help') then 1 else null end) as num_negative_interactions\n",
    "        \n",
    "        FROM sparkify_users_interactions_churn\n",
    "    group by 1,2,3,4\n",
    "  \n",
    "''')"
   ]
  },
  {
   "cell_type": "code",
   "execution_count": 93,
   "metadata": {},
   "outputs": [
    {
     "data": {
      "text/html": [
       "<div>\n",
       "<style scoped>\n",
       "    .dataframe tbody tr th:only-of-type {\n",
       "        vertical-align: middle;\n",
       "    }\n",
       "\n",
       "    .dataframe tbody tr th {\n",
       "        vertical-align: top;\n",
       "    }\n",
       "\n",
       "    .dataframe thead th {\n",
       "        text-align: right;\n",
       "    }\n",
       "</style>\n",
       "<table border=\"1\" class=\"dataframe\">\n",
       "  <thead>\n",
       "    <tr style=\"text-align: right;\">\n",
       "      <th></th>\n",
       "      <th>userid</th>\n",
       "      <th>label</th>\n",
       "      <th>gender_ohe</th>\n",
       "      <th>state_ohe</th>\n",
       "      <th>max_auth_index</th>\n",
       "      <th>max_level_index</th>\n",
       "      <th>max_has_downgraded</th>\n",
       "      <th>max_num_days_since_signup</th>\n",
       "      <th>num_sessions</th>\n",
       "      <th>num_total_interactions</th>\n",
       "      <th>num_positive_interactions</th>\n",
       "      <th>num_negative_interactions</th>\n",
       "    </tr>\n",
       "  </thead>\n",
       "  <tbody>\n",
       "    <tr>\n",
       "      <th>0</th>\n",
       "      <td>156</td>\n",
       "      <td>0</td>\n",
       "      <td>(0.0)</td>\n",
       "      <td>(0.0, 1.0, 0.0, 0.0, 0.0, 0.0, 0.0, 0.0, 0.0, ...</td>\n",
       "      <td>0.0</td>\n",
       "      <td>1.0</td>\n",
       "      <td>0</td>\n",
       "      <td>0</td>\n",
       "      <td>1</td>\n",
       "      <td>6</td>\n",
       "      <td>3</td>\n",
       "      <td>0</td>\n",
       "    </tr>\n",
       "    <tr>\n",
       "      <th>1</th>\n",
       "      <td>74</td>\n",
       "      <td>0</td>\n",
       "      <td>(1.0)</td>\n",
       "      <td>(0.0, 0.0, 0.0, 0.0, 1.0, 0.0, 0.0, 0.0, 0.0, ...</td>\n",
       "      <td>0.0</td>\n",
       "      <td>1.0</td>\n",
       "      <td>1</td>\n",
       "      <td>71</td>\n",
       "      <td>23</td>\n",
       "      <td>2887</td>\n",
       "      <td>2658</td>\n",
       "      <td>40</td>\n",
       "    </tr>\n",
       "    <tr>\n",
       "      <th>2</th>\n",
       "      <td>300009</td>\n",
       "      <td>0</td>\n",
       "      <td>(1.0)</td>\n",
       "      <td>(0.0, 0.0, 0.0, 0.0, 0.0, 0.0, 0.0, 0.0, 0.0, ...</td>\n",
       "      <td>0.0</td>\n",
       "      <td>1.0</td>\n",
       "      <td>1</td>\n",
       "      <td>101</td>\n",
       "      <td>18</td>\n",
       "      <td>1721</td>\n",
       "      <td>1624</td>\n",
       "      <td>24</td>\n",
       "    </tr>\n",
       "  </tbody>\n",
       "</table>\n",
       "</div>"
      ],
      "text/plain": [
       "   userid  label gender_ohe  \\\n",
       "0     156      0      (0.0)   \n",
       "1      74      0      (1.0)   \n",
       "2  300009      0      (1.0)   \n",
       "\n",
       "                                           state_ohe  max_auth_index  \\\n",
       "0  (0.0, 1.0, 0.0, 0.0, 0.0, 0.0, 0.0, 0.0, 0.0, ...             0.0   \n",
       "1  (0.0, 0.0, 0.0, 0.0, 1.0, 0.0, 0.0, 0.0, 0.0, ...             0.0   \n",
       "2  (0.0, 0.0, 0.0, 0.0, 0.0, 0.0, 0.0, 0.0, 0.0, ...             0.0   \n",
       "\n",
       "   max_level_index  max_has_downgraded  max_num_days_since_signup  \\\n",
       "0              1.0                   0                          0   \n",
       "1              1.0                   1                         71   \n",
       "2              1.0                   1                        101   \n",
       "\n",
       "   num_sessions  num_total_interactions  num_positive_interactions  \\\n",
       "0             1                       6                          3   \n",
       "1            23                    2887                       2658   \n",
       "2            18                    1721                       1624   \n",
       "\n",
       "   num_negative_interactions  \n",
       "0                          0  \n",
       "1                         40  \n",
       "2                         24  "
      ]
     },
     "execution_count": 93,
     "metadata": {},
     "output_type": "execute_result"
    }
   ],
   "source": [
    "features_df.toPandas().head(3)"
   ]
  },
  {
   "cell_type": "code",
   "execution_count": null,
   "metadata": {},
   "outputs": [],
   "source": []
  },
  {
   "cell_type": "code",
   "execution_count": 94,
   "metadata": {},
   "outputs": [
    {
     "name": "stdout",
     "output_type": "stream",
     "text": [
      "(225, 12)\n"
     ]
    }
   ],
   "source": [
    "# check # of rows/users\n",
    "print((features_df.count(), len(features_df.columns)))"
   ]
  },
  {
   "cell_type": "code",
   "execution_count": 86,
   "metadata": {},
   "outputs": [],
   "source": []
  },
  {
   "cell_type": "markdown",
   "metadata": {},
   "source": [
    "# <a class=\"anchor\" id=\"model\">5. Modeling</a>\n",
    "Split the full dataset into train, test, and validation sets. Test out several of the machine learning methods you learned. Evaluate the accuracy of the various models, tuning parameters as necessary. Determine your winning model based on test accuracy and report results on the validation set. Since the churned users are a fairly small subset, I suggest using F1 score as the metric to optimize."
   ]
  },
  {
   "cell_type": "markdown",
   "metadata": {},
   "source": [
    "`.` We managed to extract interesting features from variables in our dataset. Next step is now to train and evaluate various models.\n",
    "We'll proceed with the following two algorithms as they are robust and well designed for classification problem\n",
    "\n",
    "1.Logistic Regression, [here](https://spark.apache.org/docs/latest/api/python/reference/api/pyspark.ml.classification.LogisticRegression.html)\n",
    "\n",
    "2.Random Forest Classifier, [here](https://spark.apache.org/docs/3.1.3/api/python/reference/api/pyspark.ml.classification.RandomForestClassifier.html)"
   ]
  },
  {
   "cell_type": "code",
   "execution_count": 95,
   "metadata": {},
   "outputs": [],
   "source": [
    "# update table with added features\n",
    "features_df.createOrReplaceTempView(\"sparkify_churn_model_features\")"
   ]
  },
  {
   "cell_type": "code",
   "execution_count": 96,
   "metadata": {},
   "outputs": [
    {
     "name": "stdout",
     "output_type": "stream",
     "text": [
      "root\n",
      " |-- userid: integer (nullable = true)\n",
      " |-- label: integer (nullable = false)\n",
      " |-- gender_ohe: vector (nullable = true)\n",
      " |-- state_ohe: vector (nullable = true)\n",
      " |-- max_auth_index: double (nullable = true)\n",
      " |-- max_level_index: double (nullable = true)\n",
      " |-- max_has_downgraded: integer (nullable = true)\n",
      " |-- max_num_days_since_signup: integer (nullable = true)\n",
      " |-- num_sessions: long (nullable = false)\n",
      " |-- num_total_interactions: long (nullable = false)\n",
      " |-- num_positive_interactions: long (nullable = false)\n",
      " |-- num_negative_interactions: long (nullable = false)\n",
      "\n"
     ]
    }
   ],
   "source": [
    "# check datatype of our features\n",
    "features_df.printSchema()"
   ]
  },
  {
   "cell_type": "code",
   "execution_count": null,
   "metadata": {},
   "outputs": [],
   "source": []
  },
  {
   "cell_type": "markdown",
   "metadata": {},
   "source": [
    "### Step 1. Features as Vectors"
   ]
  },
  {
   "cell_type": "markdown",
   "metadata": {},
   "source": [
    "`.` Create a vector from the combined columns of all of the features, see [here](https://spark.apache.org/docs/1.4.1/ml-features.html#vectorassembler)\n",
    "\n",
    "VectorAssembler is a transformer that combines a given list of columns into a single vector column. It is useful for combining raw features and features generated by different feature transformers into a single feature vector, in order to train ML models like logistic regression and decision trees. \n",
    "In each row, the values of the input columns will be concatenated into a vector in the specified order."
   ]
  },
  {
   "cell_type": "code",
   "execution_count": 97,
   "metadata": {},
   "outputs": [],
   "source": [
    "assembler = VectorAssembler(inputCols = [\"gender_ohe\",\"state_ohe\", \"max_level_index\", \"max_auth_index\",\"max_num_days_since_signup\",\"num_sessions\",\"num_total_interactions\",\"num_positive_interactions\",\"num_negative_interactions\"],outputCol = \"features_vec\")\n",
    "\n",
    "features_df = assembler.transform(features_df)"
   ]
  },
  {
   "cell_type": "markdown",
   "metadata": {},
   "source": [
    "### Step 2. Features Standardisation"
   ]
  },
  {
   "cell_type": "markdown",
   "metadata": {},
   "source": [
    "`.`StandardScaler transforms a dataset of Vector rows, see [here](https://spark.apache.org/docs/1.4.1/ml-features.html#standardscaler)\n",
    "                                                                  \n",
    "Normalizing each feature to have unit standard deviation and/or zero mean.\n",
    "This can be relevant to our model since we are dealing with features of different scale and do not necessarly want highest/lowest values to overweight in the model predictions.\n"
   ]
  },
  {
   "cell_type": "code",
   "execution_count": 98,
   "metadata": {},
   "outputs": [],
   "source": [
    "scaler = StandardScaler(inputCol=\"features_vec\", outputCol=\"features\", withStd=True)\n",
    "\n",
    "scaler_model = scaler.fit(features_df)\n",
    "\n",
    "features_df = scaler_model.transform(features_df)\n"
   ]
  },
  {
   "cell_type": "code",
   "execution_count": 99,
   "metadata": {},
   "outputs": [
    {
     "data": {
      "text/html": [
       "<div>\n",
       "<style scoped>\n",
       "    .dataframe tbody tr th:only-of-type {\n",
       "        vertical-align: middle;\n",
       "    }\n",
       "\n",
       "    .dataframe tbody tr th {\n",
       "        vertical-align: top;\n",
       "    }\n",
       "\n",
       "    .dataframe thead th {\n",
       "        text-align: right;\n",
       "    }\n",
       "</style>\n",
       "<table border=\"1\" class=\"dataframe\">\n",
       "  <thead>\n",
       "    <tr style=\"text-align: right;\">\n",
       "      <th></th>\n",
       "      <th>userid</th>\n",
       "      <th>label</th>\n",
       "      <th>gender_ohe</th>\n",
       "      <th>state_ohe</th>\n",
       "      <th>max_auth_index</th>\n",
       "      <th>max_level_index</th>\n",
       "      <th>max_has_downgraded</th>\n",
       "      <th>max_num_days_since_signup</th>\n",
       "      <th>num_sessions</th>\n",
       "      <th>num_total_interactions</th>\n",
       "      <th>num_positive_interactions</th>\n",
       "      <th>num_negative_interactions</th>\n",
       "      <th>features_vec</th>\n",
       "      <th>features</th>\n",
       "    </tr>\n",
       "  </thead>\n",
       "  <tbody>\n",
       "    <tr>\n",
       "      <th>0</th>\n",
       "      <td>156</td>\n",
       "      <td>0</td>\n",
       "      <td>(0.0)</td>\n",
       "      <td>(0.0, 1.0, 0.0, 0.0, 0.0, 0.0, 0.0, 0.0, 0.0, ...</td>\n",
       "      <td>0.0</td>\n",
       "      <td>1.0</td>\n",
       "      <td>0</td>\n",
       "      <td>0</td>\n",
       "      <td>1</td>\n",
       "      <td>6</td>\n",
       "      <td>3</td>\n",
       "      <td>0</td>\n",
       "      <td>(0.0, 0.0, 1.0, 0.0, 0.0, 0.0, 0.0, 0.0, 0.0, ...</td>\n",
       "      <td>(0.0, 0.0, 3.67784856245, 0.0, 0.0, 0.0, 0.0, ...</td>\n",
       "    </tr>\n",
       "    <tr>\n",
       "      <th>1</th>\n",
       "      <td>74</td>\n",
       "      <td>0</td>\n",
       "      <td>(1.0)</td>\n",
       "      <td>(0.0, 0.0, 0.0, 0.0, 1.0, 0.0, 0.0, 0.0, 0.0, ...</td>\n",
       "      <td>0.0</td>\n",
       "      <td>1.0</td>\n",
       "      <td>1</td>\n",
       "      <td>71</td>\n",
       "      <td>23</td>\n",
       "      <td>2887</td>\n",
       "      <td>2658</td>\n",
       "      <td>40</td>\n",
       "      <td>(1.0, 0.0, 0.0, 0.0, 0.0, 1.0, 0.0, 0.0, 0.0, ...</td>\n",
       "      <td>(2.00127105192, 0.0, 0.0, 0.0, 0.0, 4.13057034...</td>\n",
       "    </tr>\n",
       "    <tr>\n",
       "      <th>2</th>\n",
       "      <td>300009</td>\n",
       "      <td>0</td>\n",
       "      <td>(1.0)</td>\n",
       "      <td>(0.0, 0.0, 0.0, 0.0, 0.0, 0.0, 0.0, 0.0, 0.0, ...</td>\n",
       "      <td>0.0</td>\n",
       "      <td>1.0</td>\n",
       "      <td>1</td>\n",
       "      <td>101</td>\n",
       "      <td>18</td>\n",
       "      <td>1721</td>\n",
       "      <td>1624</td>\n",
       "      <td>24</td>\n",
       "      <td>(1.0, 0.0, 0.0, 0.0, 0.0, 0.0, 0.0, 0.0, 0.0, ...</td>\n",
       "      <td>(2.00127105192, 0.0, 0.0, 0.0, 0.0, 0.0, 0.0, ...</td>\n",
       "    </tr>\n",
       "    <tr>\n",
       "      <th>3</th>\n",
       "      <td>138</td>\n",
       "      <td>0</td>\n",
       "      <td>(0.0)</td>\n",
       "      <td>(0.0, 1.0, 0.0, 0.0, 0.0, 0.0, 0.0, 0.0, 0.0, ...</td>\n",
       "      <td>0.0</td>\n",
       "      <td>1.0</td>\n",
       "      <td>1</td>\n",
       "      <td>66</td>\n",
       "      <td>15</td>\n",
       "      <td>2469</td>\n",
       "      <td>2273</td>\n",
       "      <td>38</td>\n",
       "      <td>(0.0, 0.0, 1.0, 0.0, 0.0, 0.0, 0.0, 0.0, 0.0, ...</td>\n",
       "      <td>(0.0, 0.0, 3.67784856245, 0.0, 0.0, 0.0, 0.0, ...</td>\n",
       "    </tr>\n",
       "    <tr>\n",
       "      <th>4</th>\n",
       "      <td>86</td>\n",
       "      <td>0</td>\n",
       "      <td>(0.0)</td>\n",
       "      <td>(0.0, 0.0, 0.0, 0.0, 1.0, 0.0, 0.0, 0.0, 0.0, ...</td>\n",
       "      <td>0.0</td>\n",
       "      <td>1.0</td>\n",
       "      <td>1</td>\n",
       "      <td>135</td>\n",
       "      <td>10</td>\n",
       "      <td>818</td>\n",
       "      <td>722</td>\n",
       "      <td>17</td>\n",
       "      <td>(0.0, 0.0, 0.0, 0.0, 0.0, 1.0, 0.0, 0.0, 0.0, ...</td>\n",
       "      <td>(0.0, 0.0, 0.0, 0.0, 0.0, 4.13057034493, 0.0, ...</td>\n",
       "    </tr>\n",
       "  </tbody>\n",
       "</table>\n",
       "</div>"
      ],
      "text/plain": [
       "   userid  label gender_ohe  \\\n",
       "0     156      0      (0.0)   \n",
       "1      74      0      (1.0)   \n",
       "2  300009      0      (1.0)   \n",
       "3     138      0      (0.0)   \n",
       "4      86      0      (0.0)   \n",
       "\n",
       "                                           state_ohe  max_auth_index  \\\n",
       "0  (0.0, 1.0, 0.0, 0.0, 0.0, 0.0, 0.0, 0.0, 0.0, ...             0.0   \n",
       "1  (0.0, 0.0, 0.0, 0.0, 1.0, 0.0, 0.0, 0.0, 0.0, ...             0.0   \n",
       "2  (0.0, 0.0, 0.0, 0.0, 0.0, 0.0, 0.0, 0.0, 0.0, ...             0.0   \n",
       "3  (0.0, 1.0, 0.0, 0.0, 0.0, 0.0, 0.0, 0.0, 0.0, ...             0.0   \n",
       "4  (0.0, 0.0, 0.0, 0.0, 1.0, 0.0, 0.0, 0.0, 0.0, ...             0.0   \n",
       "\n",
       "   max_level_index  max_has_downgraded  max_num_days_since_signup  \\\n",
       "0              1.0                   0                          0   \n",
       "1              1.0                   1                         71   \n",
       "2              1.0                   1                        101   \n",
       "3              1.0                   1                         66   \n",
       "4              1.0                   1                        135   \n",
       "\n",
       "   num_sessions  num_total_interactions  num_positive_interactions  \\\n",
       "0             1                       6                          3   \n",
       "1            23                    2887                       2658   \n",
       "2            18                    1721                       1624   \n",
       "3            15                    2469                       2273   \n",
       "4            10                     818                        722   \n",
       "\n",
       "   num_negative_interactions  \\\n",
       "0                          0   \n",
       "1                         40   \n",
       "2                         24   \n",
       "3                         38   \n",
       "4                         17   \n",
       "\n",
       "                                        features_vec  \\\n",
       "0  (0.0, 0.0, 1.0, 0.0, 0.0, 0.0, 0.0, 0.0, 0.0, ...   \n",
       "1  (1.0, 0.0, 0.0, 0.0, 0.0, 1.0, 0.0, 0.0, 0.0, ...   \n",
       "2  (1.0, 0.0, 0.0, 0.0, 0.0, 0.0, 0.0, 0.0, 0.0, ...   \n",
       "3  (0.0, 0.0, 1.0, 0.0, 0.0, 0.0, 0.0, 0.0, 0.0, ...   \n",
       "4  (0.0, 0.0, 0.0, 0.0, 0.0, 1.0, 0.0, 0.0, 0.0, ...   \n",
       "\n",
       "                                            features  \n",
       "0  (0.0, 0.0, 3.67784856245, 0.0, 0.0, 0.0, 0.0, ...  \n",
       "1  (2.00127105192, 0.0, 0.0, 0.0, 0.0, 4.13057034...  \n",
       "2  (2.00127105192, 0.0, 0.0, 0.0, 0.0, 0.0, 0.0, ...  \n",
       "3  (0.0, 0.0, 3.67784856245, 0.0, 0.0, 0.0, 0.0, ...  \n",
       "4  (0.0, 0.0, 0.0, 0.0, 0.0, 4.13057034493, 0.0, ...  "
      ]
     },
     "execution_count": 99,
     "metadata": {},
     "output_type": "execute_result"
    }
   ],
   "source": [
    "features_df.toPandas().head()"
   ]
  },
  {
   "cell_type": "code",
   "execution_count": null,
   "metadata": {},
   "outputs": [],
   "source": []
  },
  {
   "cell_type": "markdown",
   "metadata": {},
   "source": [
    "### Step 3. Train Test Split"
   ]
  },
  {
   "cell_type": "code",
   "execution_count": 100,
   "metadata": {},
   "outputs": [
    {
     "name": "stdout",
     "output_type": "stream",
     "text": [
      "Size train dataset:135\n",
      "Size test Dataset:38\n",
      "Size validation Dataset:52\n"
     ]
    }
   ],
   "source": [
    "# split dataset into train/test/validation datasets\n",
    "\n",
    "train, test, valid = features_df.randomSplit([0.6, 0.2, 0.2], seed = 42)\n",
    "\n",
    "print(\"Size train dataset:\" + str(train.count()))\n",
    "print(\"Size test Dataset:\" + str(test.count()))\n",
    "print(\"Size validation Dataset:\" + str(valid.count()))"
   ]
  },
  {
   "cell_type": "code",
   "execution_count": 101,
   "metadata": {},
   "outputs": [],
   "source": [
    "# instantiate models\n",
    "\n",
    "lr = LogisticRegression(featuresCol = 'features', labelCol = 'label', maxIter=10)\n",
    "rfc = RandomForestClassifier(featuresCol = 'features', labelCol = 'label', seed=42)\n"
   ]
  },
  {
   "cell_type": "code",
   "execution_count": 102,
   "metadata": {},
   "outputs": [],
   "source": [
    "# list of models to train/test\n",
    "model_list = [lr,rfc]\n"
   ]
  },
  {
   "cell_type": "code",
   "execution_count": 103,
   "metadata": {},
   "outputs": [],
   "source": [
    "# used to evaluate our classification modeles\n",
    "evaluator = MulticlassClassificationEvaluator(labelCol = 'label', predictionCol='prediction')\n"
   ]
  },
  {
   "cell_type": "code",
   "execution_count": 110,
   "metadata": {},
   "outputs": [
    {
     "name": "stdout",
     "output_type": "stream",
     "text": [
      "LogisticRegression training started\n",
      "LogisticRegression training completed\n",
      "Time taken for training LogisticRegression is: 92.05986475944519 seconds\n",
      "LogisticRegression predictions started\n",
      "LogisticRegression predictions completed\n",
      "F1 for LogisticRegression is: 0.9630036630036631\n",
      "The accuracy of the LogisticRegression model is: 0.9615384615384616\n",
      "RandomForestClassifier training started\n",
      "RandomForestClassifier training completed\n",
      "Time taken for training RandomForestClassifier is: 125.2970678806305 seconds\n",
      "RandomForestClassifier predictions started\n",
      "RandomForestClassifier predictions completed\n",
      "F1 for RandomForestClassifier is: 1.0\n",
      "The accuracy of the RandomForestClassifier model is: 1.0\n"
     ]
    }
   ],
   "source": [
    "# Execute train/predictions and eval of our models\n",
    "for model in model_list:\n",
    "    \n",
    "    model_name = model.__class__.__name__\n",
    "    \n",
    "    print(model_name, 'training started')\n",
    "    \n",
    "    # training starts\n",
    "    start = time.time()\n",
    "    \n",
    "    # fit the model on training data\n",
    "    model = model.fit(train)\n",
    "    \n",
    "    # training finished\n",
    "    end = time.time()\n",
    "     \n",
    "    print(model_name, 'training completed')\n",
    "    \n",
    "    # training exec time length\n",
    "    print('Time taken for training {} is:'.format(model_name),(end-start),'seconds')\n",
    "    \n",
    "    # predictions start\n",
    "    print(model_name, 'predictions started')\n",
    "    \n",
    "    predictions = model.transform(valid)\n",
    "    \n",
    "    print(model_name, 'predictions completed')\n",
    "    \n",
    "    # evaluate models using accuracy and f1 score:\n",
    "    \n",
    "    print('F1 for {} is:'.format(model_name), evaluator.evaluate(predictions, {evaluator.metricName: \"f1\"}))\n",
    "\n",
    "    accuracy = predictions.filter(predictions.label == predictions.prediction).count() / (predictions.count())\n",
    "    \n",
    "    print(\"The accuracy of the {} model is:\".format(model_name), accuracy)\n",
    "\n",
    "    "
   ]
  },
  {
   "cell_type": "markdown",
   "metadata": {},
   "source": [
    "### Step 4. Model tuning \n",
    "\n"
   ]
  },
  {
   "cell_type": "markdown",
   "metadata": {},
   "source": [
    "`.` Both models return pretty satisfying results. In the end we will probably end up using RandomForestClassifier as it delivers\n",
    "the best outcome for both accurancy and F1 even though it probably requires more computational power (40% more time to execute).\n",
    "\n",
    "`.` Given the performance issue and the risk of overfitting due to the low number of users used in training, we'll see to improve\n",
    "a bit our already good model results.\n",
    "\n",
    "`Maxdepth`: set a max of 15 to reduce risk of overfitting\n",
    "\n",
    "`Numfolds`: reduced to 3 instead of 5 to reduce execution time in training"
   ]
  },
  {
   "cell_type": "code",
   "execution_count": null,
   "metadata": {},
   "outputs": [],
   "source": [
    "# gridsearch params\n",
    "\n",
    "params= ParamGridBuilder() \\\n",
    "    .addGrid(rfc.maxDepth,[5, 10, 15]) \\\n",
    "    .build()\n",
    "\n",
    "\n",
    "cross_val = CrossValidator(estimator=rfc,\n",
    "                          estimatorParamMaps=params,\n",
    "                          evaluator=MulticlassClassificationEvaluator(metricName = \"f1\"),\n",
    "                          numFolds=3)\n",
    "\n",
    "# fit train dataset\n",
    "cross_val_model = cross_val.fit(train)\n",
    "\n"
   ]
  },
  {
   "cell_type": "code",
   "execution_count": 105,
   "metadata": {},
   "outputs": [
    {
     "name": "stdout",
     "output_type": "stream",
     "text": [
      "Best Param value for MaxDepth:  10\n",
      "F1-score for best model: 1.0\n",
      "Accuracy for best model: 1.0\n"
     ]
    }
   ],
   "source": [
    "results = cross_val_model.transform(valid)\n",
    "accuracy = results.filter(results.label == results.prediction).count() / (results.count())\n",
    "best_model = cross_val_model.bestModel\n",
    "\n",
    "print (\"Best Param value for MaxDepth: \", best_model._java_obj.getMaxDepth())\n",
    "print('F1-score for best model:', evaluator.evaluate(predictions, {evaluator.metricName: \"f1\"}))\n",
    "print('Accuracy for best model:', evaluator.evaluate(predictions, {evaluator.metricName: \"accuracy\"}))\n"
   ]
  },
  {
   "cell_type": "markdown",
   "metadata": {},
   "source": [
    "# <a class=\"anchor\" id=\"results\">6. Conclusion</a>"
   ]
  },
  {
   "cell_type": "markdown",
   "metadata": {},
   "source": [
    "`.` Wrapping up the project. We were assigned the task to deliver a predictive model aiming at identifying but then preventing users to churn, given the cost related to users acquisition.\n",
    "\n",
    "`.`We had access to a small dataset (128MB) gathering clickstream data for 225 unique users.\n",
    "After cleaning our dataset, exploring possible variables of interest to identify churned/non-churned users, we had the chance to transform those variables into features we would then use into our models.\n",
    "\n",
    "`.`Using various techniques, we were able to integrate most of our desired variables, then carry on with training two models we selected for their good performances when dealing with classification problem.\n",
    "\n",
    "`.`Both models were trained and evaluated against provided dataset. As noted along the exploratory analysis, the class we are trying to predict is unbalanced therefore f1-score had to be computed as such scenario may lead\n",
    "to unreliable accuracy score.\n",
    "\n",
    "`.`Also, since we are dealing with a small dataset, training is done on with relatively low number of users and may have an impact (i.e overfitting) therefore, we tuned our best model and would end up using a `maxDepth` param of 10 and when it comes to performance, reduce the `numFolds` to 3 instead of 5 initially."
   ]
  },
  {
   "cell_type": "markdown",
   "metadata": {},
   "source": [
    "# Final Steps\n",
    "Clean up your code, adding comments and renaming variables to make the code easier to read and maintain. Refer to the Spark Project Overview page and Data Scientist Capstone Project Rubric to make sure you are including all components of the capstone project and meet all expectations. Remember, this includes thorough documentation in a README file in a Github repository, as well as a web app or blog post."
   ]
  },
  {
   "cell_type": "code",
   "execution_count": null,
   "metadata": {},
   "outputs": [],
   "source": []
  },
  {
   "cell_type": "code",
   "execution_count": null,
   "metadata": {},
   "outputs": [],
   "source": []
  },
  {
   "cell_type": "code",
   "execution_count": null,
   "metadata": {},
   "outputs": [],
   "source": []
  },
  {
   "cell_type": "code",
   "execution_count": null,
   "metadata": {},
   "outputs": [],
   "source": []
  }
 ],
 "metadata": {
  "kernelspec": {
   "display_name": "Python 3",
   "language": "python",
   "name": "python3"
  },
  "language_info": {
   "codemirror_mode": {
    "name": "ipython",
    "version": 3
   },
   "file_extension": ".py",
   "mimetype": "text/x-python",
   "name": "python",
   "nbconvert_exporter": "python",
   "pygments_lexer": "ipython3",
   "version": "3.6.3"
  }
 },
 "nbformat": 4,
 "nbformat_minor": 2
}

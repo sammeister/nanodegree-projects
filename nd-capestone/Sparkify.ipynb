{
 "cells": [
  {
   "cell_type": "markdown",
   "metadata": {},
   "source": [
    "# Sparkify Project Workspace\n",
    "This workspace contains a tiny subset (128MB) of the full dataset available (12GB). Feel free to use this workspace to build your project, or to explore a smaller subset with Spark before deploying your cluster on the cloud. Instructions for setting up your Spark cluster is included in the last lesson of the Extracurricular Spark Course content.\n",
    "\n",
    "You can follow the steps below to guide your data analysis and model building portion of this project."
   ]
  },
  {
   "cell_type": "markdown",
   "metadata": {},
   "source": [
    "1. [Introduction](#intro)<br>\n",
    "2. [Load & clean dataset](#wrangling)<br>\n",
    "3. [Exploratory data analysis](#eda)<br>\n",
    "4. [Feature engineering](#feateng)<br>\n",
    "5. [Modeling](#model)<br>\n",
    "6. [Conclusion](#results)<br>\n"
   ]
  },
  {
   "cell_type": "markdown",
   "metadata": {},
   "source": [
    "# <a class=\"anchor\" id=\"intro\">1. Introduction</a>\n",
    "\n",
    "Along this project, we will be working on a challenging real case problem that many customer-facing business have to deal with, which is how to predict the churn rate of their users.\n",
    "\n",
    "To accomplish the project, we have been provided with a datastet from Sparkify organization.\n",
    "\n",
    "We will be working on large dataset hence usage of Spark will be key to manipulate the data. Spark ML lib will also be deterministic in the best choice of algorithm to pick and evaluate for our predictive model.\n"
   ]
  },
  {
   "cell_type": "code",
   "execution_count": 2,
   "metadata": {},
   "outputs": [
    {
     "ename": "ModuleNotFoundError",
     "evalue": "No module named 'pyspark'",
     "output_type": "error",
     "traceback": [
      "\u001B[0;31m---------------------------------------------------------------------------\u001B[0m",
      "\u001B[0;31mModuleNotFoundError\u001B[0m                       Traceback (most recent call last)",
      "Cell \u001B[0;32mIn[2], line 4\u001B[0m\n\u001B[1;32m      2\u001B[0m \u001B[38;5;28;01mimport\u001B[39;00m \u001B[38;5;21;01mdatetime\u001B[39;00m\n\u001B[1;32m      3\u001B[0m \u001B[38;5;28;01mimport\u001B[39;00m \u001B[38;5;21;01mtime\u001B[39;00m\n\u001B[0;32m----> 4\u001B[0m \u001B[38;5;28;01mimport\u001B[39;00m \u001B[38;5;21;01mpyspark\u001B[39;00m\n\u001B[1;32m      5\u001B[0m \u001B[38;5;28;01mfrom\u001B[39;00m \u001B[38;5;21;01mpyspark\u001B[39;00m \u001B[38;5;28;01mimport\u001B[39;00m SparkConf\n\u001B[1;32m      6\u001B[0m \u001B[38;5;28;01mfrom\u001B[39;00m \u001B[38;5;21;01mpyspark\u001B[39;00m\u001B[38;5;21;01m.\u001B[39;00m\u001B[38;5;21;01msql\u001B[39;00m \u001B[38;5;28;01mimport\u001B[39;00m SparkSession\n",
      "\u001B[0;31mModuleNotFoundError\u001B[0m: No module named 'pyspark'"
     ]
    }
   ],
   "source": [
    "# import libraries\n",
    "import datetime\n",
    "import time\n",
    "import pyspark\n",
    "from pyspark import SparkConf\n",
    "from pyspark.sql import SparkSession\n",
    "\n",
    "\n",
    "from pyspark.sql.functions import col,isnan, when, count,lower,udf, datediff,countDistinct\n",
    "from pyspark.sql import functions as F\n",
    "from pyspark.sql.types import IntegerType\n",
    "\n",
    "\n",
    "\n",
    "from pyspark.ml.feature import StringIndexer, OneHotEncoder, VectorAssembler, Normalizer, StandardScaler\n",
    "from pyspark.ml.classification import LogisticRegression, RandomForestClassifier, GBTClassifier, LinearSVC, NaiveBayes\n",
    "from pyspark.ml.evaluation import MulticlassClassificationEvaluator\n",
    "\n",
    "\n",
    "%matplotlib inline\n",
    "import matplotlib.pyplot as plt\n",
    "import seaborn as sns"
   ]
  },
  {
   "cell_type": "code",
   "execution_count": 2,
   "metadata": {},
   "outputs": [],
   "source": [
    "# create a Spark session\n",
    "spark = SparkSession \\\n",
    "    .builder \\\n",
    "    .appName(\"SparkifyProject\") \\\n",
    "    .getOrCreate()"
   ]
  },
  {
   "cell_type": "markdown",
   "metadata": {},
   "source": [
    "# <a class=\"anchor\" id=\"wrangling\">2. Load & clean dataset</a>\n",
    "In this workspace, the mini-dataset file is `mini_sparkify_event_data.json`. Load and clean the dataset, checking for invalid or missing data - for example, records without userids or sessionids. "
   ]
  },
  {
   "cell_type": "code",
   "execution_count": 3,
   "metadata": {},
   "outputs": [],
   "source": [
    "# load dataset\n",
    "df = spark.read.json(\"mini_sparkify_event_data.json\")"
   ]
  },
  {
   "cell_type": "code",
   "execution_count": 4,
   "metadata": {},
   "outputs": [
    {
     "name": "stdout",
     "output_type": "stream",
     "text": [
      "+----------------+---------+---------+------+-------------+--------+---------+-----+--------------------+------+--------+-------------+---------+--------------------+------+-------------+--------------------+------+\n",
      "|          artist|     auth|firstName|gender|itemInSession|lastName|   length|level|            location|method|    page| registration|sessionId|                song|status|           ts|           userAgent|userId|\n",
      "+----------------+---------+---------+------+-------------+--------+---------+-----+--------------------+------+--------+-------------+---------+--------------------+------+-------------+--------------------+------+\n",
      "|  Martha Tilston|Logged In|    Colin|     M|           50| Freeman|277.89016| paid|     Bakersfield, CA|   PUT|NextSong|1538173362000|       29|           Rockpools|   200|1538352117000|Mozilla/5.0 (Wind...|    30|\n",
      "|Five Iron Frenzy|Logged In|    Micah|     M|           79|    Long|236.09424| free|Boston-Cambridge-...|   PUT|NextSong|1538331630000|        8|              Canada|   200|1538352180000|\"Mozilla/5.0 (Win...|     9|\n",
      "|    Adam Lambert|Logged In|    Colin|     M|           51| Freeman| 282.8273| paid|     Bakersfield, CA|   PUT|NextSong|1538173362000|       29|   Time For Miracles|   200|1538352394000|Mozilla/5.0 (Wind...|    30|\n",
      "|          Enigma|Logged In|    Micah|     M|           80|    Long|262.71302| free|Boston-Cambridge-...|   PUT|NextSong|1538331630000|        8|Knocking On Forbi...|   200|1538352416000|\"Mozilla/5.0 (Win...|     9|\n",
      "|       Daft Punk|Logged In|    Colin|     M|           52| Freeman|223.60771| paid|     Bakersfield, CA|   PUT|NextSong|1538173362000|       29|Harder Better Fas...|   200|1538352676000|Mozilla/5.0 (Wind...|    30|\n",
      "+----------------+---------+---------+------+-------------+--------+---------+-----+--------------------+------+--------+-------------+---------+--------------------+------+-------------+--------------------+------+\n",
      "only showing top 5 rows\n",
      "\n"
     ]
    }
   ],
   "source": [
    "df.show(5)"
   ]
  },
  {
   "cell_type": "code",
   "execution_count": 5,
   "metadata": {},
   "outputs": [
    {
     "name": "stdout",
     "output_type": "stream",
     "text": [
      "root\n",
      " |-- artist: string (nullable = true)\n",
      " |-- auth: string (nullable = true)\n",
      " |-- firstName: string (nullable = true)\n",
      " |-- gender: string (nullable = true)\n",
      " |-- itemInSession: long (nullable = true)\n",
      " |-- lastName: string (nullable = true)\n",
      " |-- length: double (nullable = true)\n",
      " |-- level: string (nullable = true)\n",
      " |-- location: string (nullable = true)\n",
      " |-- method: string (nullable = true)\n",
      " |-- page: string (nullable = true)\n",
      " |-- registration: long (nullable = true)\n",
      " |-- sessionId: long (nullable = true)\n",
      " |-- song: string (nullable = true)\n",
      " |-- status: long (nullable = true)\n",
      " |-- ts: long (nullable = true)\n",
      " |-- userAgent: string (nullable = true)\n",
      " |-- userId: string (nullable = true)\n",
      "\n"
     ]
    }
   ],
   "source": [
    "# check for schema data types\n",
    "df.printSchema()"
   ]
  },
  {
   "cell_type": "code",
   "execution_count": 6,
   "metadata": {},
   "outputs": [
    {
     "name": "stdout",
     "output_type": "stream",
     "text": [
      "(286500, 18)\n"
     ]
    }
   ],
   "source": [
    "# shape of dataset\n",
    "print((df.count(), len(df.columns)))"
   ]
  },
  {
   "cell_type": "code",
   "execution_count": 7,
   "metadata": {},
   "outputs": [
    {
     "name": "stdout",
     "output_type": "stream",
     "text": [
      "+------+----+---------+------+-------------+--------+------+-----+--------+------+----+------------+---------+-----+------+---+---------+------+\n",
      "|artist|auth|firstName|gender|itemInSession|lastName|length|level|location|method|page|registration|sessionId| song|status| ts|userAgent|userId|\n",
      "+------+----+---------+------+-------------+--------+------+-----+--------+------+----+------------+---------+-----+------+---+---------+------+\n",
      "| 58392|   0|     8346|  8346|            0|    8346| 58392|    0|    8346|     0|   0|        8346|        0|58392|     0|  0|     8346|     0|\n",
      "+------+----+---------+------+-------------+--------+------+-----+--------+------+----+------------+---------+-----+------+---+---------+------+\n",
      "\n"
     ]
    }
   ],
   "source": [
    "# check for empty/null values\n",
    "df.select([count(when(isnan(c) | col(c).isNull(), c)).alias(c) for c in df.columns]\n",
    "   ).show()"
   ]
  },
  {
   "cell_type": "markdown",
   "metadata": {},
   "source": [
    "`.` We have some nan/null values that we'll have to take care of before building our model.\n",
    "Those empty values can not be dropped arbitrarily in our case since they might be expected for some of the events logged in data."
   ]
  },
  {
   "cell_type": "code",
   "execution_count": 8,
   "metadata": {},
   "outputs": [
    {
     "name": "stdout",
     "output_type": "stream",
     "text": [
      "+------+----+---------+------+-------------+--------+------+-----+--------+------+----+------------+---------+----+------+---+---------+------+\n",
      "|artist|auth|firstName|gender|itemInSession|lastName|length|level|location|method|page|registration|sessionId|song|status| ts|userAgent|userId|\n",
      "+------+----+---------+------+-------------+--------+------+-----+--------+------+----+------------+---------+----+------+---+---------+------+\n",
      "+------+----+---------+------+-------------+--------+------+-----+--------+------+----+------------+---------+----+------+---+---------+------+\n",
      "\n"
     ]
    }
   ],
   "source": [
    "# checking for duplicates rows cross all cols\n",
    "df.exceptAll(df.dropDuplicates(df.columns)).show()"
   ]
  },
  {
   "cell_type": "code",
   "execution_count": 9,
   "metadata": {},
   "outputs": [
    {
     "name": "stdout",
     "output_type": "stream",
     "text": [
      "(286500, 18)\n"
     ]
    }
   ],
   "source": [
    "# check num of rows after removing dups \n",
    "print((df.count(), len(df.columns)))"
   ]
  },
  {
   "cell_type": "markdown",
   "metadata": {},
   "source": [
    "`.` no duplicate row found checking for all cols in dataset"
   ]
  },
  {
   "cell_type": "code",
   "execution_count": 10,
   "metadata": {},
   "outputs": [],
   "source": [
    "# lower case all col names\n",
    "df_clean = df.select([F.col(x).alias(x.lower()) for x in df.columns])"
   ]
  },
  {
   "cell_type": "code",
   "execution_count": 11,
   "metadata": {},
   "outputs": [
    {
     "name": "stdout",
     "output_type": "stream",
     "text": [
      "root\n",
      " |-- artist: string (nullable = true)\n",
      " |-- auth: string (nullable = true)\n",
      " |-- firstname: string (nullable = true)\n",
      " |-- gender: string (nullable = true)\n",
      " |-- iteminsession: long (nullable = true)\n",
      " |-- lastname: string (nullable = true)\n",
      " |-- length: double (nullable = true)\n",
      " |-- level: string (nullable = true)\n",
      " |-- location: string (nullable = true)\n",
      " |-- method: string (nullable = true)\n",
      " |-- page: string (nullable = true)\n",
      " |-- registration: long (nullable = true)\n",
      " |-- sessionid: long (nullable = true)\n",
      " |-- song: string (nullable = true)\n",
      " |-- status: long (nullable = true)\n",
      " |-- ts: long (nullable = true)\n",
      " |-- useragent: string (nullable = true)\n",
      " |-- userid: string (nullable = true)\n",
      "\n"
     ]
    }
   ],
   "source": [
    "df_clean.printSchema()"
   ]
  },
  {
   "cell_type": "code",
   "execution_count": 12,
   "metadata": {},
   "outputs": [],
   "source": [
    "# removing userID set as empty string\n",
    "df_clean = df_clean.filter(df_clean[\"userid\"] != \"\")\n"
   ]
  },
  {
   "cell_type": "markdown",
   "metadata": {},
   "source": [
    "`.` We had some rows storing userid as empty string. This would break some operations carried out later and such records do not bring\n",
    "any value, therefore we can safely remove those."
   ]
  },
  {
   "cell_type": "code",
   "execution_count": 13,
   "metadata": {},
   "outputs": [],
   "source": [
    "# Define udf to convert epoch timestamp to human readable date format\n",
    "convert_datetime = udf(lambda x: datetime.datetime.fromtimestamp(x / 1000.0).strftime(\"%Y-%m-%d %H:%M:%S\"))"
   ]
  },
  {
   "cell_type": "code",
   "execution_count": 14,
   "metadata": {},
   "outputs": [],
   "source": [
    "# create new col event_timedate\n",
    "df_clean = df_clean.withColumn(\"event_timedate\", convert_datetime(df_clean.ts))\n",
    "\n",
    "# create new col registration_date\n",
    "df_clean = df_clean.withColumn(\"registration_timedate\", convert_datetime(df_clean.registration))"
   ]
  },
  {
   "cell_type": "code",
   "execution_count": 15,
   "metadata": {},
   "outputs": [
    {
     "name": "stdout",
     "output_type": "stream",
     "text": [
      "root\n",
      " |-- artist: string (nullable = true)\n",
      " |-- auth: string (nullable = true)\n",
      " |-- firstname: string (nullable = true)\n",
      " |-- gender: string (nullable = true)\n",
      " |-- iteminsession: long (nullable = true)\n",
      " |-- lastname: string (nullable = true)\n",
      " |-- length: double (nullable = true)\n",
      " |-- level: string (nullable = true)\n",
      " |-- location: string (nullable = true)\n",
      " |-- method: string (nullable = true)\n",
      " |-- page: string (nullable = true)\n",
      " |-- registration: long (nullable = true)\n",
      " |-- sessionid: long (nullable = true)\n",
      " |-- song: string (nullable = true)\n",
      " |-- status: long (nullable = true)\n",
      " |-- ts: long (nullable = true)\n",
      " |-- useragent: string (nullable = true)\n",
      " |-- userid: string (nullable = true)\n",
      " |-- event_timedate: string (nullable = true)\n",
      " |-- registration_timedate: string (nullable = true)\n",
      "\n"
     ]
    }
   ],
   "source": [
    "df_clean.printSchema()"
   ]
  },
  {
   "cell_type": "markdown",
   "metadata": {},
   "source": [
    "`.` new columns created properly showing up in schema"
   ]
  },
  {
   "cell_type": "code",
   "execution_count": 16,
   "metadata": {},
   "outputs": [],
   "source": [
    "# cast data type to sort our data\n",
    "df_clean = df_clean.withColumn(\"userid\",df_clean.userid.cast(IntegerType()))\n",
    "df_clean = df_clean.withColumn(\"ts\",df_clean.ts.cast(IntegerType()))\n"
   ]
  },
  {
   "cell_type": "code",
   "execution_count": 17,
   "metadata": {},
   "outputs": [
    {
     "data": {
      "text/html": [
       "<div>\n",
       "<style scoped>\n",
       "    .dataframe tbody tr th:only-of-type {\n",
       "        vertical-align: middle;\n",
       "    }\n",
       "\n",
       "    .dataframe tbody tr th {\n",
       "        vertical-align: top;\n",
       "    }\n",
       "\n",
       "    .dataframe thead th {\n",
       "        text-align: right;\n",
       "    }\n",
       "</style>\n",
       "<table border=\"1\" class=\"dataframe\">\n",
       "  <thead>\n",
       "    <tr style=\"text-align: right;\">\n",
       "      <th></th>\n",
       "      <th>artist</th>\n",
       "      <th>auth</th>\n",
       "      <th>firstname</th>\n",
       "      <th>gender</th>\n",
       "      <th>iteminsession</th>\n",
       "      <th>lastname</th>\n",
       "      <th>length</th>\n",
       "      <th>level</th>\n",
       "      <th>location</th>\n",
       "      <th>method</th>\n",
       "      <th>page</th>\n",
       "      <th>registration</th>\n",
       "      <th>sessionid</th>\n",
       "      <th>song</th>\n",
       "      <th>status</th>\n",
       "      <th>ts</th>\n",
       "      <th>useragent</th>\n",
       "      <th>userid</th>\n",
       "      <th>event_timedate</th>\n",
       "      <th>registration_timedate</th>\n",
       "    </tr>\n",
       "  </thead>\n",
       "  <tbody>\n",
       "    <tr>\n",
       "      <th>0</th>\n",
       "      <td>None</td>\n",
       "      <td>Logged In</td>\n",
       "      <td>Colin</td>\n",
       "      <td>M</td>\n",
       "      <td>2</td>\n",
       "      <td>Freeman</td>\n",
       "      <td>NaN</td>\n",
       "      <td>free</td>\n",
       "      <td>Bakersfield, CA</td>\n",
       "      <td>GET</td>\n",
       "      <td>Home</td>\n",
       "      <td>1538173362000</td>\n",
       "      <td>945</td>\n",
       "      <td>None</td>\n",
       "      <td>200</td>\n",
       "      <td>-1822290264</td>\n",
       "      <td>Mozilla/5.0 (Windows NT 6.1; WOW64; rv:31.0) G...</td>\n",
       "      <td>30</td>\n",
       "      <td>2018-10-20 21:29:29</td>\n",
       "      <td>2018-09-28 22:22:42</td>\n",
       "    </tr>\n",
       "    <tr>\n",
       "      <th>1</th>\n",
       "      <td>Carbon Based Lifeforms</td>\n",
       "      <td>Logged In</td>\n",
       "      <td>Colin</td>\n",
       "      <td>M</td>\n",
       "      <td>0</td>\n",
       "      <td>Freeman</td>\n",
       "      <td>425.27302</td>\n",
       "      <td>free</td>\n",
       "      <td>Bakersfield, CA</td>\n",
       "      <td>PUT</td>\n",
       "      <td>NextSong</td>\n",
       "      <td>1538173362000</td>\n",
       "      <td>1110</td>\n",
       "      <td>Silent Running</td>\n",
       "      <td>200</td>\n",
       "      <td>-1625175264</td>\n",
       "      <td>Mozilla/5.0 (Windows NT 6.1; WOW64; rv:31.0) G...</td>\n",
       "      <td>30</td>\n",
       "      <td>2018-10-23 04:14:44</td>\n",
       "      <td>2018-09-28 22:22:42</td>\n",
       "    </tr>\n",
       "    <tr>\n",
       "      <th>2</th>\n",
       "      <td>Metallica</td>\n",
       "      <td>Logged In</td>\n",
       "      <td>Colin</td>\n",
       "      <td>M</td>\n",
       "      <td>1</td>\n",
       "      <td>Freeman</td>\n",
       "      <td>396.40771</td>\n",
       "      <td>free</td>\n",
       "      <td>Bakersfield, CA</td>\n",
       "      <td>PUT</td>\n",
       "      <td>NextSong</td>\n",
       "      <td>1538173362000</td>\n",
       "      <td>1110</td>\n",
       "      <td>The Unforgiven II</td>\n",
       "      <td>200</td>\n",
       "      <td>-1624750264</td>\n",
       "      <td>Mozilla/5.0 (Windows NT 6.1; WOW64; rv:31.0) G...</td>\n",
       "      <td>30</td>\n",
       "      <td>2018-10-23 04:21:49</td>\n",
       "      <td>2018-09-28 22:22:42</td>\n",
       "    </tr>\n",
       "    <tr>\n",
       "      <th>3</th>\n",
       "      <td>Les MisÃÂ©rables - 10th Anniversary Concert</td>\n",
       "      <td>Logged In</td>\n",
       "      <td>Colin</td>\n",
       "      <td>M</td>\n",
       "      <td>2</td>\n",
       "      <td>Freeman</td>\n",
       "      <td>219.92444</td>\n",
       "      <td>free</td>\n",
       "      <td>Bakersfield, CA</td>\n",
       "      <td>PUT</td>\n",
       "      <td>NextSong</td>\n",
       "      <td>1538173362000</td>\n",
       "      <td>1110</td>\n",
       "      <td>Valjean's Soliloquy</td>\n",
       "      <td>200</td>\n",
       "      <td>-1624354264</td>\n",
       "      <td>Mozilla/5.0 (Windows NT 6.1; WOW64; rv:31.0) G...</td>\n",
       "      <td>30</td>\n",
       "      <td>2018-10-23 04:28:25</td>\n",
       "      <td>2018-09-28 22:22:42</td>\n",
       "    </tr>\n",
       "    <tr>\n",
       "      <th>4</th>\n",
       "      <td>FM Static</td>\n",
       "      <td>Logged In</td>\n",
       "      <td>Colin</td>\n",
       "      <td>M</td>\n",
       "      <td>3</td>\n",
       "      <td>Freeman</td>\n",
       "      <td>218.27873</td>\n",
       "      <td>free</td>\n",
       "      <td>Bakersfield, CA</td>\n",
       "      <td>PUT</td>\n",
       "      <td>NextSong</td>\n",
       "      <td>1538173362000</td>\n",
       "      <td>1110</td>\n",
       "      <td>Tonight</td>\n",
       "      <td>200</td>\n",
       "      <td>-1624135264</td>\n",
       "      <td>Mozilla/5.0 (Windows NT 6.1; WOW64; rv:31.0) G...</td>\n",
       "      <td>30</td>\n",
       "      <td>2018-10-23 04:32:04</td>\n",
       "      <td>2018-09-28 22:22:42</td>\n",
       "    </tr>\n",
       "  </tbody>\n",
       "</table>\n",
       "</div>"
      ],
      "text/plain": [
       "                                         artist       auth firstname gender  \\\n",
       "0                                          None  Logged In     Colin      M   \n",
       "1                        Carbon Based Lifeforms  Logged In     Colin      M   \n",
       "2                                     Metallica  Logged In     Colin      M   \n",
       "3  Les MisÃÂ©rables - 10th Anniversary Concert  Logged In     Colin      M   \n",
       "4                                     FM Static  Logged In     Colin      M   \n",
       "\n",
       "   iteminsession lastname     length level         location method      page  \\\n",
       "0              2  Freeman        NaN  free  Bakersfield, CA    GET      Home   \n",
       "1              0  Freeman  425.27302  free  Bakersfield, CA    PUT  NextSong   \n",
       "2              1  Freeman  396.40771  free  Bakersfield, CA    PUT  NextSong   \n",
       "3              2  Freeman  219.92444  free  Bakersfield, CA    PUT  NextSong   \n",
       "4              3  Freeman  218.27873  free  Bakersfield, CA    PUT  NextSong   \n",
       "\n",
       "    registration  sessionid                 song  status          ts  \\\n",
       "0  1538173362000        945                 None     200 -1822290264   \n",
       "1  1538173362000       1110       Silent Running     200 -1625175264   \n",
       "2  1538173362000       1110    The Unforgiven II     200 -1624750264   \n",
       "3  1538173362000       1110  Valjean's Soliloquy     200 -1624354264   \n",
       "4  1538173362000       1110              Tonight     200 -1624135264   \n",
       "\n",
       "                                           useragent  userid  \\\n",
       "0  Mozilla/5.0 (Windows NT 6.1; WOW64; rv:31.0) G...      30   \n",
       "1  Mozilla/5.0 (Windows NT 6.1; WOW64; rv:31.0) G...      30   \n",
       "2  Mozilla/5.0 (Windows NT 6.1; WOW64; rv:31.0) G...      30   \n",
       "3  Mozilla/5.0 (Windows NT 6.1; WOW64; rv:31.0) G...      30   \n",
       "4  Mozilla/5.0 (Windows NT 6.1; WOW64; rv:31.0) G...      30   \n",
       "\n",
       "        event_timedate registration_timedate  \n",
       "0  2018-10-20 21:29:29   2018-09-28 22:22:42  \n",
       "1  2018-10-23 04:14:44   2018-09-28 22:22:42  \n",
       "2  2018-10-23 04:21:49   2018-09-28 22:22:42  \n",
       "3  2018-10-23 04:28:25   2018-09-28 22:22:42  \n",
       "4  2018-10-23 04:32:04   2018-09-28 22:22:42  "
      ]
     },
     "execution_count": 17,
     "metadata": {},
     "output_type": "execute_result"
    }
   ],
   "source": [
    "# sort events by user and time\n",
    "df_clean = df_clean.sort(['userid','ts'], ascending=True)\n",
    "\n",
    "# check is events are sorted properly\n",
    "df_clean.filter(df_clean[\"userid\"] == 30).toPandas().head()"
   ]
  },
  {
   "cell_type": "markdown",
   "metadata": {},
   "source": [
    "`.` We are sorting all users interactions in chronological order (asc). let's see if we can later extract some feature out of it. Having the ordered sequences of actions performed might help us to identify possible pain points churn users came across."
   ]
  },
  {
   "cell_type": "markdown",
   "metadata": {},
   "source": [
    "# <a class=\"anchor\" id=\"eda\">3. Exploratory data analysis</a>\n"
   ]
  },
  {
   "cell_type": "markdown",
   "metadata": {},
   "source": [
    "\n",
    "When you're working with the full dataset, perform EDA by loading a small subset of the data and doing basic manipulations within Spark. In this workspace, you are already provided a small subset of data you can explore.\n",
    "\n",
    "### Define Churn\n",
    "\n",
    "Once you've done some preliminary analysis, create a column `Churn` to use as the label for your model. I suggest using the `Cancellation Confirmation` events to define your churn, which happen for both paid and free users. As a bonus task, you can also look into the `Downgrade` events.\n",
    "\n",
    "### Explore Data\n",
    "Once you've defined churn, perform some exploratory data analysis to observe the behavior for users who stayed vs users who churned. You can start by exploring aggregates on these two groups of users, observing how much of a specific action they experienced per a certain time unit or number of songs played."
   ]
  },
  {
   "cell_type": "code",
   "execution_count": 18,
   "metadata": {},
   "outputs": [],
   "source": [
    "# identify churned users\n",
    "churn_ids = df_clean.select(\"userid\").where(df_clean.page ==\"Cancellation Confirmation\")\n",
    "\n",
    "churn_ids_list = churn_ids.select(\"userid\").rdd.flatMap(lambda x: x).collect()"
   ]
  },
  {
   "cell_type": "code",
   "execution_count": 19,
   "metadata": {},
   "outputs": [],
   "source": [
    "# add new col to identify actions made by churned/not churned users\n",
    "df_clean = df_clean.withColumn(\"has_cancelled\",when((df_clean.userid.isin(churn_ids_list)), 1).otherwise(0))"
   ]
  },
  {
   "cell_type": "code",
   "execution_count": 20,
   "metadata": {},
   "outputs": [
    {
     "name": "stdout",
     "output_type": "stream",
     "text": [
      "+-------------+----------------------+\n",
      "|has_cancelled|count(DISTINCT userid)|\n",
      "+-------------+----------------------+\n",
      "|            1|                    52|\n",
      "|            0|                   173|\n",
      "+-------------+----------------------+\n",
      "\n"
     ]
    }
   ],
   "source": [
    "# check for num of churned users\n",
    "df_clean.groupBy(\"has_cancelled\").agg(countDistinct('userid')).show()"
   ]
  },
  {
   "cell_type": "markdown",
   "metadata": {},
   "source": [
    "`.` all rows/interactions made to churned users will return `has_cancelled ==1`\n",
    "\n",
    "`.` we only have 52 users who churned, even thought they count for 30% of our users base, this number might be too small, let's also consider to add users who downgraded."
   ]
  },
  {
   "cell_type": "code",
   "execution_count": 21,
   "metadata": {},
   "outputs": [],
   "source": [
    "# identify users who downgraded\n",
    "downgrade_ids = df_clean.select(\"userid\").where(df_clean.page ==\"Downgrade\")\n",
    "\n",
    "downgrade_ids_list = downgrade_ids.select(\"userid\").rdd.flatMap(lambda x: x).collect()"
   ]
  },
  {
   "cell_type": "code",
   "execution_count": 22,
   "metadata": {},
   "outputs": [],
   "source": [
    "# add downgraded users col to dataset\n",
    "\n",
    "df_clean = df_clean.withColumn(\"has_downgraded\",when((df_clean.userid.isin(downgrade_ids_list)), 1).otherwise(0))"
   ]
  },
  {
   "cell_type": "code",
   "execution_count": 23,
   "metadata": {},
   "outputs": [
    {
     "name": "stdout",
     "output_type": "stream",
     "text": [
      "+--------------+----------------------+\n",
      "|has_downgraded|count(DISTINCT userid)|\n",
      "+--------------+----------------------+\n",
      "|             1|                   154|\n",
      "|             0|                    71|\n",
      "+--------------+----------------------+\n",
      "\n"
     ]
    }
   ],
   "source": [
    "# check for num of downgraded users\n",
    "df_clean.groupBy(\"has_downgraded\").agg(countDistinct('userid')).show()"
   ]
  },
  {
   "cell_type": "markdown",
   "metadata": {},
   "source": [
    "`.` all rows/interactions made to users who downgraded will return `has_downgraded ==1`\n",
    "\n",
    "`.` it will be interesting to look at if users who churned did downgrade before. It might be a sign user is about to leave.\n"
   ]
  },
  {
   "cell_type": "code",
   "execution_count": 24,
   "metadata": {},
   "outputs": [
    {
     "data": {
      "text/html": [
       "<div>\n",
       "<style scoped>\n",
       "    .dataframe tbody tr th:only-of-type {\n",
       "        vertical-align: middle;\n",
       "    }\n",
       "\n",
       "    .dataframe tbody tr th {\n",
       "        vertical-align: top;\n",
       "    }\n",
       "\n",
       "    .dataframe thead th {\n",
       "        text-align: right;\n",
       "    }\n",
       "</style>\n",
       "<table border=\"1\" class=\"dataframe\">\n",
       "  <thead>\n",
       "    <tr style=\"text-align: right;\">\n",
       "      <th></th>\n",
       "      <th>iteminsession</th>\n",
       "      <th>length</th>\n",
       "      <th>registration</th>\n",
       "      <th>sessionid</th>\n",
       "      <th>status</th>\n",
       "      <th>ts</th>\n",
       "      <th>userid</th>\n",
       "      <th>has_cancelled</th>\n",
       "      <th>has_downgraded</th>\n",
       "    </tr>\n",
       "  </thead>\n",
       "  <tbody>\n",
       "    <tr>\n",
       "      <th>count</th>\n",
       "      <td>278154.000000</td>\n",
       "      <td>228108.000000</td>\n",
       "      <td>2.781540e+05</td>\n",
       "      <td>278154.000000</td>\n",
       "      <td>278154.000000</td>\n",
       "      <td>2.781540e+05</td>\n",
       "      <td>278154.000000</td>\n",
       "      <td>278154.000000</td>\n",
       "      <td>278154.000000</td>\n",
       "    </tr>\n",
       "    <tr>\n",
       "      <th>mean</th>\n",
       "      <td>114.899182</td>\n",
       "      <td>249.117182</td>\n",
       "      <td>1.535359e+12</td>\n",
       "      <td>1042.561624</td>\n",
       "      <td>209.103216</td>\n",
       "      <td>2.021887e+08</td>\n",
       "      <td>59682.022786</td>\n",
       "      <td>0.161292</td>\n",
       "      <td>0.937308</td>\n",
       "    </tr>\n",
       "    <tr>\n",
       "      <th>std</th>\n",
       "      <td>129.851729</td>\n",
       "      <td>99.235179</td>\n",
       "      <td>3.291322e+09</td>\n",
       "      <td>726.501036</td>\n",
       "      <td>30.151389</td>\n",
       "      <td>1.252569e+09</td>\n",
       "      <td>109091.949999</td>\n",
       "      <td>0.367801</td>\n",
       "      <td>0.242408</td>\n",
       "    </tr>\n",
       "    <tr>\n",
       "      <th>min</th>\n",
       "      <td>0.000000</td>\n",
       "      <td>0.783220</td>\n",
       "      <td>1.521381e+12</td>\n",
       "      <td>1.000000</td>\n",
       "      <td>200.000000</td>\n",
       "      <td>-2.147464e+09</td>\n",
       "      <td>2.000000</td>\n",
       "      <td>0.000000</td>\n",
       "      <td>0.000000</td>\n",
       "    </tr>\n",
       "    <tr>\n",
       "      <th>25%</th>\n",
       "      <td>27.000000</td>\n",
       "      <td>199.888530</td>\n",
       "      <td>1.533522e+12</td>\n",
       "      <td>338.000000</td>\n",
       "      <td>200.000000</td>\n",
       "      <td>-8.892365e+08</td>\n",
       "      <td>51.000000</td>\n",
       "      <td>0.000000</td>\n",
       "      <td>1.000000</td>\n",
       "    </tr>\n",
       "    <tr>\n",
       "      <th>50%</th>\n",
       "      <td>70.000000</td>\n",
       "      <td>234.500770</td>\n",
       "      <td>1.536664e+12</td>\n",
       "      <td>1017.000000</td>\n",
       "      <td>200.000000</td>\n",
       "      <td>4.292007e+08</td>\n",
       "      <td>98.000000</td>\n",
       "      <td>0.000000</td>\n",
       "      <td>1.000000</td>\n",
       "    </tr>\n",
       "    <tr>\n",
       "      <th>75%</th>\n",
       "      <td>157.000000</td>\n",
       "      <td>277.158730</td>\n",
       "      <td>1.537672e+12</td>\n",
       "      <td>1675.000000</td>\n",
       "      <td>200.000000</td>\n",
       "      <td>1.329670e+09</td>\n",
       "      <td>100004.000000</td>\n",
       "      <td>0.000000</td>\n",
       "      <td>1.000000</td>\n",
       "    </tr>\n",
       "    <tr>\n",
       "      <th>max</th>\n",
       "      <td>1321.000000</td>\n",
       "      <td>3024.665670</td>\n",
       "      <td>1.543247e+12</td>\n",
       "      <td>2474.000000</td>\n",
       "      <td>404.000000</td>\n",
       "      <td>2.147455e+09</td>\n",
       "      <td>300025.000000</td>\n",
       "      <td>1.000000</td>\n",
       "      <td>1.000000</td>\n",
       "    </tr>\n",
       "  </tbody>\n",
       "</table>\n",
       "</div>"
      ],
      "text/plain": [
       "       iteminsession         length  registration      sessionid  \\\n",
       "count  278154.000000  228108.000000  2.781540e+05  278154.000000   \n",
       "mean      114.899182     249.117182  1.535359e+12    1042.561624   \n",
       "std       129.851729      99.235179  3.291322e+09     726.501036   \n",
       "min         0.000000       0.783220  1.521381e+12       1.000000   \n",
       "25%        27.000000     199.888530  1.533522e+12     338.000000   \n",
       "50%        70.000000     234.500770  1.536664e+12    1017.000000   \n",
       "75%       157.000000     277.158730  1.537672e+12    1675.000000   \n",
       "max      1321.000000    3024.665670  1.543247e+12    2474.000000   \n",
       "\n",
       "              status            ts         userid  has_cancelled  \\\n",
       "count  278154.000000  2.781540e+05  278154.000000  278154.000000   \n",
       "mean      209.103216  2.021887e+08   59682.022786       0.161292   \n",
       "std        30.151389  1.252569e+09  109091.949999       0.367801   \n",
       "min       200.000000 -2.147464e+09       2.000000       0.000000   \n",
       "25%       200.000000 -8.892365e+08      51.000000       0.000000   \n",
       "50%       200.000000  4.292007e+08      98.000000       0.000000   \n",
       "75%       200.000000  1.329670e+09  100004.000000       0.000000   \n",
       "max       404.000000  2.147455e+09  300025.000000       1.000000   \n",
       "\n",
       "       has_downgraded  \n",
       "count   278154.000000  \n",
       "mean         0.937308  \n",
       "std          0.242408  \n",
       "min          0.000000  \n",
       "25%          1.000000  \n",
       "50%          1.000000  \n",
       "75%          1.000000  \n",
       "max          1.000000  "
      ]
     },
     "execution_count": 24,
     "metadata": {},
     "output_type": "execute_result"
    }
   ],
   "source": [
    "# Descriptive statistics for numerical variables\n",
    "df_clean.select([col[0] for col in df_clean.dtypes if col[1] != 'string']).toPandas().describe()"
   ]
  },
  {
   "cell_type": "markdown",
   "metadata": {},
   "source": [
    "`.` we don't have too many insightful numerical variables.\n",
    "\n",
    "`.` `iteminsession` since its attached to sessionid, counter probably resets for every new session (i.e cold-start problem?)\n",
    "\n",
    "`.` `length` being the time (secs) a song was played.\n",
    "\n",
    "`.` other vars are not being of interest for our model, we will have to make sure to do some feature engineering work"
   ]
  },
  {
   "cell_type": "code",
   "execution_count": 25,
   "metadata": {},
   "outputs": [],
   "source": [
    "# create view 'sparkify_users_interactions_churn' to use sql\n",
    "\n",
    "df_clean.createOrReplaceTempView(\"sparkify_users_interactions_churn\")"
   ]
  },
  {
   "cell_type": "code",
   "execution_count": 26,
   "metadata": {},
   "outputs": [
    {
     "data": {
      "image/png": "[encoded data removed]",
      "text/plain": [
       "<matplotlib.figure.Figure at 0x7f98dc86bf60>"
      ]
     },
     "metadata": {
      "needs_background": "light"
     },
     "output_type": "display_data"
    }
   ],
   "source": [
    "# viz iteminsession\n",
    "q1 = spark.sql('''\n",
    "        SELECT iteminsession\n",
    "        FROM sparkify_users_interactions_churn\n",
    "        ''').toPandas()\n",
    "\n",
    "\n",
    "sns.boxplot(q1);"
   ]
  },
  {
   "cell_type": "markdown",
   "metadata": {},
   "source": [
    "`.` As expected from summary statistics displayed above, distribution of our variable is positively skewed to the right with an average \n",
    "of 115 iteminsession but still many users located under value reported as first quartile (27).\n",
    "\n",
    "`.` There are also \n"
   ]
  },
  {
   "cell_type": "code",
   "execution_count": 27,
   "metadata": {},
   "outputs": [],
   "source": [
    "# create new column registering diff in days since user signed up\n",
    "df_clean = df_clean.withColumn(\"num_days_since_signup\", datediff(col(\"event_timedate\"),col(\"registration_timedate\")))\n"
   ]
  },
  {
   "cell_type": "code",
   "execution_count": 28,
   "metadata": {},
   "outputs": [],
   "source": [
    "# update table with new col\n",
    "df_clean.createOrReplaceTempView(\"sparkify_users_interactions_churn\")"
   ]
  },
  {
   "cell_type": "code",
   "execution_count": 29,
   "metadata": {},
   "outputs": [
    {
     "data": {
      "image/png": "[encoded data removed]",
      "text/plain": [
       "<matplotlib.figure.Figure at 0x7f98dc6e8a58>"
      ]
     },
     "metadata": {
      "needs_background": "light"
     },
     "output_type": "display_data"
    }
   ],
   "source": [
    "q2 = spark.sql('''\n",
    "        SELECT DISTINCT userid, MAX(num_days_since_signup) as max_num_days_since_signup\n",
    "        FROM sparkify_users_interactions_churn\n",
    "        GROUP BY userid\n",
    "        \n",
    "        ''').toPandas()\n",
    "\n",
    "sns.distplot(q2.max_num_days_since_signup);\n",
    "\n",
    "plt.title('Distribution of users per last activity since registration')\n",
    "plt.show()"
   ]
  },
  {
   "cell_type": "code",
   "execution_count": null,
   "metadata": {},
   "outputs": [],
   "source": []
  },
  {
   "cell_type": "code",
   "execution_count": 30,
   "metadata": {
    "scrolled": true
   },
   "outputs": [
    {
     "data": {
      "image/png": "[encoded data removed]",
      "text/plain": [
       "<matplotlib.figure.Figure at 0x7f98dc9e8f98>"
      ]
     },
     "metadata": {
      "needs_background": "light"
     },
     "output_type": "display_data"
    }
   ],
   "source": [
    "\n",
    "q3 = spark.sql('''\n",
    "        SELECT gender,has_cancelled as has_churned, userid\n",
    "        FROM sparkify_users_interactions_churn\n",
    "    \n",
    "    group by 1,2,3\n",
    "''').toPandas()\n",
    "\n",
    "\n",
    "sns.countplot(x = 'gender', hue = 'has_churned', data = q3, palette = 'magma')\n",
    "plt.title('Distribution churned users by gender')\n",
    "plt.show()"
   ]
  },
  {
   "cell_type": "code",
   "execution_count": 31,
   "metadata": {},
   "outputs": [
    {
     "data": {
      "image/png": "[encoded data removed]",
      "text/plain": [
       "<matplotlib.figure.Figure at 0x7f98cf73beb8>"
      ]
     },
     "metadata": {
      "needs_background": "light"
     },
     "output_type": "display_data"
    }
   ],
   "source": [
    "q4 = spark.sql('''\n",
    "        SELECT level,has_cancelled as has_churned, userid\n",
    "        FROM sparkify_users_interactions_churn\n",
    "    group by 1,2,3\n",
    "''').toPandas()\n",
    "\n",
    "#sns.distplot(q1.has_churned);\n",
    "\n",
    "sns.countplot(x = 'level', hue = 'has_churned', data = q4, palette = 'magma')\n",
    "plt.title('Distribution of users by subscription type')\n",
    "plt.show()"
   ]
  },
  {
   "cell_type": "code",
   "execution_count": 32,
   "metadata": {},
   "outputs": [
    {
     "data": {
      "image/png": "[encoded data removed]",
      "text/plain": [
       "<matplotlib.figure.Figure at 0x7f98a920e438>"
      ]
     },
     "metadata": {
      "needs_background": "light"
     },
     "output_type": "display_data"
    }
   ],
   "source": [
    "# Percentage of positive & negative interactions for churn\n",
    "q5 = spark.sql('''\n",
    "        SELECT has_cancelled as has_churned\n",
    "                ,(count(case when page in ('Add Friend','Add to Playlist','NextSong','Thumbs Up') then 1 else null end)/ count(*)) as perc_positive_interactions\n",
    "\n",
    "        FROM sparkify_users_interactions_churn\n",
    "        --where has_cancelled = 1\n",
    "     group by 1\n",
    "\n",
    "''').toPandas()\n",
    "\n",
    "\n",
    "sns.barplot(x = 'has_churned',y='perc_positive_interactions', data = q5, palette = 'magma')\n",
    "plt.title('Percentage positive interactions')\n",
    "plt.show()\n",
    "\n",
    "\n"
   ]
  },
  {
   "cell_type": "markdown",
   "metadata": {},
   "source": [
    "`.` Not a real significant difference between the two groups of events.We should probably dig deeper and look at each one of them individually"
   ]
  },
  {
   "cell_type": "markdown",
   "metadata": {},
   "source": [
    "# <a class=\"anchor\" id=\"feateng\">4. Features engineering</a>"
   ]
  },
  {
   "cell_type": "markdown",
   "metadata": {},
   "source": [
    "\n",
    "Once you've familiarized yourself with the data, build out the features you find promising to train your model on. To work with the full dataset, you can follow the following steps.\n",
    "- Write a script to extract the necessary features from the smaller subset of data\n",
    "- Ensure that your script is scalable, using the best practices discussed in Lesson 3\n",
    "- Try your script on the full data set, debugging your script if necessary\n",
    "\n",
    "If you are working in the classroom workspace, you can just extract features based on the small subset of data contained here. Be sure to transfer over this work to the larger dataset when you work on your Spark cluster."
   ]
  },
  {
   "cell_type": "code",
   "execution_count": 33,
   "metadata": {},
   "outputs": [
    {
     "name": "stdout",
     "output_type": "stream",
     "text": [
      "root\n",
      " |-- artist: string (nullable = true)\n",
      " |-- auth: string (nullable = true)\n",
      " |-- firstname: string (nullable = true)\n",
      " |-- gender: string (nullable = true)\n",
      " |-- iteminsession: long (nullable = true)\n",
      " |-- lastname: string (nullable = true)\n",
      " |-- length: double (nullable = true)\n",
      " |-- level: string (nullable = true)\n",
      " |-- location: string (nullable = true)\n",
      " |-- method: string (nullable = true)\n",
      " |-- page: string (nullable = true)\n",
      " |-- registration: long (nullable = true)\n",
      " |-- sessionid: long (nullable = true)\n",
      " |-- song: string (nullable = true)\n",
      " |-- status: long (nullable = true)\n",
      " |-- ts: integer (nullable = true)\n",
      " |-- useragent: string (nullable = true)\n",
      " |-- userid: integer (nullable = true)\n",
      " |-- event_timedate: string (nullable = true)\n",
      " |-- registration_timedate: string (nullable = true)\n",
      " |-- has_cancelled: integer (nullable = false)\n",
      " |-- has_downgraded: integer (nullable = false)\n",
      " |-- num_days_since_signup: integer (nullable = true)\n",
      "\n"
     ]
    }
   ],
   "source": [
    "df_clean.printSchema()"
   ]
  },
  {
   "cell_type": "code",
   "execution_count": null,
   "metadata": {},
   "outputs": [],
   "source": []
  },
  {
   "cell_type": "code",
   "execution_count": null,
   "metadata": {},
   "outputs": [],
   "source": []
  },
  {
   "cell_type": "markdown",
   "metadata": {},
   "source": [
    "artist -> to see.\n",
    "\n",
    "auth -> keep -> transformed-> done\n",
    "#firstname -> remove\n",
    "gender -> keep -> transformed -> done\n",
    "iteminsession -> see what is it first\n",
    "#lastname -> remove\n",
    "length -> to remove ?\n",
    "level -> as cateforical -> done\n",
    "#location -> to remove\n",
    "#method -> to remove\n",
    "last event -> to create. before cancellation\n",
    "song -> to see\n",
    "#user agant -> remove\n",
    "first event -> to create\n",
    "vector with all events?\n",
    "\n"
   ]
  },
  {
   "cell_type": "code",
   "execution_count": 34,
   "metadata": {},
   "outputs": [],
   "source": [
    "# add meaningful events \n",
    "\n",
    "positive_experience = ['Add Friend','Add to Playlist','NextSong','Thumbs Up']\n",
    "negative_experience = ['Error','Submit Downgrade','Thumbs Down','Help']"
   ]
  },
  {
   "cell_type": "code",
   "execution_count": 35,
   "metadata": {},
   "outputs": [],
   "source": [
    "# \n",
    "SI_gender = StringIndexer(inputCol='gender',outputCol='gender_index')\n",
    "SI_level = StringIndexer(inputCol='level',outputCol='level_index')\n",
    "SI_auth = StringIndexer(inputCol='auth',outputCol='auth_index')"
   ]
  },
  {
   "cell_type": "code",
   "execution_count": null,
   "metadata": {},
   "outputs": [],
   "source": []
  },
  {
   "cell_type": "code",
   "execution_count": 36,
   "metadata": {},
   "outputs": [],
   "source": [
    "df_clean = SI_gender.fit(df_clean).transform(df_clean)\n",
    "df_clean = SI_level.fit(df_clean).transform(df_clean)\n",
    "df_clean = SI_auth.fit(df_clean).transform(df_clean)"
   ]
  },
  {
   "cell_type": "code",
   "execution_count": 37,
   "metadata": {},
   "outputs": [
    {
     "data": {
      "text/html": [
       "<div>\n",
       "<style scoped>\n",
       "    .dataframe tbody tr th:only-of-type {\n",
       "        vertical-align: middle;\n",
       "    }\n",
       "\n",
       "    .dataframe tbody tr th {\n",
       "        vertical-align: top;\n",
       "    }\n",
       "\n",
       "    .dataframe thead th {\n",
       "        text-align: right;\n",
       "    }\n",
       "</style>\n",
       "<table border=\"1\" class=\"dataframe\">\n",
       "  <thead>\n",
       "    <tr style=\"text-align: right;\">\n",
       "      <th></th>\n",
       "      <th>artist</th>\n",
       "      <th>auth</th>\n",
       "      <th>firstname</th>\n",
       "      <th>gender</th>\n",
       "      <th>iteminsession</th>\n",
       "      <th>lastname</th>\n",
       "      <th>length</th>\n",
       "      <th>level</th>\n",
       "      <th>location</th>\n",
       "      <th>method</th>\n",
       "      <th>...</th>\n",
       "      <th>useragent</th>\n",
       "      <th>userid</th>\n",
       "      <th>event_timedate</th>\n",
       "      <th>registration_timedate</th>\n",
       "      <th>has_cancelled</th>\n",
       "      <th>has_downgraded</th>\n",
       "      <th>num_days_since_signup</th>\n",
       "      <th>gender_index</th>\n",
       "      <th>level_index</th>\n",
       "      <th>auth_index</th>\n",
       "    </tr>\n",
       "  </thead>\n",
       "  <tbody>\n",
       "    <tr>\n",
       "      <th>0</th>\n",
       "      <td>The Offspring</td>\n",
       "      <td>Logged In</td>\n",
       "      <td>Natalee</td>\n",
       "      <td>F</td>\n",
       "      <td>0</td>\n",
       "      <td>Charles</td>\n",
       "      <td>168.30649</td>\n",
       "      <td>paid</td>\n",
       "      <td>Raleigh, NC</td>\n",
       "      <td>PUT</td>\n",
       "      <td>...</td>\n",
       "      <td>\"Mozilla/5.0 (Windows NT 6.1; WOW64) AppleWebK...</td>\n",
       "      <td>2</td>\n",
       "      <td>2018-10-27 16:44:43</td>\n",
       "      <td>2018-09-13 00:49:30</td>\n",
       "      <td>0</td>\n",
       "      <td>1</td>\n",
       "      <td>44</td>\n",
       "      <td>0.0</td>\n",
       "      <td>0.0</td>\n",
       "      <td>0.0</td>\n",
       "    </tr>\n",
       "    <tr>\n",
       "      <th>1</th>\n",
       "      <td>Slakah the Beatchild Feat. Drake</td>\n",
       "      <td>Logged In</td>\n",
       "      <td>Natalee</td>\n",
       "      <td>F</td>\n",
       "      <td>1</td>\n",
       "      <td>Charles</td>\n",
       "      <td>227.00363</td>\n",
       "      <td>paid</td>\n",
       "      <td>Raleigh, NC</td>\n",
       "      <td>PUT</td>\n",
       "      <td>...</td>\n",
       "      <td>\"Mozilla/5.0 (Windows NT 6.1; WOW64) AppleWebK...</td>\n",
       "      <td>2</td>\n",
       "      <td>2018-10-27 16:47:31</td>\n",
       "      <td>2018-09-13 00:49:30</td>\n",
       "      <td>0</td>\n",
       "      <td>1</td>\n",
       "      <td>44</td>\n",
       "      <td>0.0</td>\n",
       "      <td>0.0</td>\n",
       "      <td>0.0</td>\n",
       "    </tr>\n",
       "    <tr>\n",
       "      <th>2</th>\n",
       "      <td>Paramore</td>\n",
       "      <td>Logged In</td>\n",
       "      <td>Natalee</td>\n",
       "      <td>F</td>\n",
       "      <td>2</td>\n",
       "      <td>Charles</td>\n",
       "      <td>209.42322</td>\n",
       "      <td>paid</td>\n",
       "      <td>Raleigh, NC</td>\n",
       "      <td>PUT</td>\n",
       "      <td>...</td>\n",
       "      <td>\"Mozilla/5.0 (Windows NT 6.1; WOW64) AppleWebK...</td>\n",
       "      <td>2</td>\n",
       "      <td>2018-10-27 16:51:18</td>\n",
       "      <td>2018-09-13 00:49:30</td>\n",
       "      <td>0</td>\n",
       "      <td>1</td>\n",
       "      <td>44</td>\n",
       "      <td>0.0</td>\n",
       "      <td>0.0</td>\n",
       "      <td>0.0</td>\n",
       "    </tr>\n",
       "    <tr>\n",
       "      <th>3</th>\n",
       "      <td>ManÃÂ¡</td>\n",
       "      <td>Logged In</td>\n",
       "      <td>Natalee</td>\n",
       "      <td>F</td>\n",
       "      <td>3</td>\n",
       "      <td>Charles</td>\n",
       "      <td>307.72200</td>\n",
       "      <td>paid</td>\n",
       "      <td>Raleigh, NC</td>\n",
       "      <td>PUT</td>\n",
       "      <td>...</td>\n",
       "      <td>\"Mozilla/5.0 (Windows NT 6.1; WOW64) AppleWebK...</td>\n",
       "      <td>2</td>\n",
       "      <td>2018-10-27 16:54:47</td>\n",
       "      <td>2018-09-13 00:49:30</td>\n",
       "      <td>0</td>\n",
       "      <td>1</td>\n",
       "      <td>44</td>\n",
       "      <td>0.0</td>\n",
       "      <td>0.0</td>\n",
       "      <td>0.0</td>\n",
       "    </tr>\n",
       "    <tr>\n",
       "      <th>4</th>\n",
       "      <td>Taylor Swift</td>\n",
       "      <td>Logged In</td>\n",
       "      <td>Natalee</td>\n",
       "      <td>F</td>\n",
       "      <td>4</td>\n",
       "      <td>Charles</td>\n",
       "      <td>238.99383</td>\n",
       "      <td>paid</td>\n",
       "      <td>Raleigh, NC</td>\n",
       "      <td>PUT</td>\n",
       "      <td>...</td>\n",
       "      <td>\"Mozilla/5.0 (Windows NT 6.1; WOW64) AppleWebK...</td>\n",
       "      <td>2</td>\n",
       "      <td>2018-10-27 16:59:54</td>\n",
       "      <td>2018-09-13 00:49:30</td>\n",
       "      <td>0</td>\n",
       "      <td>1</td>\n",
       "      <td>44</td>\n",
       "      <td>0.0</td>\n",
       "      <td>0.0</td>\n",
       "      <td>0.0</td>\n",
       "    </tr>\n",
       "  </tbody>\n",
       "</table>\n",
       "<p>5 rows × 26 columns</p>\n",
       "</div>"
      ],
      "text/plain": [
       "                             artist       auth firstname gender  \\\n",
       "0                     The Offspring  Logged In   Natalee      F   \n",
       "1  Slakah the Beatchild Feat. Drake  Logged In   Natalee      F   \n",
       "2                          Paramore  Logged In   Natalee      F   \n",
       "3                           ManÃÂ¡  Logged In   Natalee      F   \n",
       "4                      Taylor Swift  Logged In   Natalee      F   \n",
       "\n",
       "   iteminsession lastname     length level     location method    ...      \\\n",
       "0              0  Charles  168.30649  paid  Raleigh, NC    PUT    ...       \n",
       "1              1  Charles  227.00363  paid  Raleigh, NC    PUT    ...       \n",
       "2              2  Charles  209.42322  paid  Raleigh, NC    PUT    ...       \n",
       "3              3  Charles  307.72200  paid  Raleigh, NC    PUT    ...       \n",
       "4              4  Charles  238.99383  paid  Raleigh, NC    PUT    ...       \n",
       "\n",
       "                                           useragent  userid  \\\n",
       "0  \"Mozilla/5.0 (Windows NT 6.1; WOW64) AppleWebK...       2   \n",
       "1  \"Mozilla/5.0 (Windows NT 6.1; WOW64) AppleWebK...       2   \n",
       "2  \"Mozilla/5.0 (Windows NT 6.1; WOW64) AppleWebK...       2   \n",
       "3  \"Mozilla/5.0 (Windows NT 6.1; WOW64) AppleWebK...       2   \n",
       "4  \"Mozilla/5.0 (Windows NT 6.1; WOW64) AppleWebK...       2   \n",
       "\n",
       "        event_timedate registration_timedate  has_cancelled  has_downgraded  \\\n",
       "0  2018-10-27 16:44:43   2018-09-13 00:49:30              0               1   \n",
       "1  2018-10-27 16:47:31   2018-09-13 00:49:30              0               1   \n",
       "2  2018-10-27 16:51:18   2018-09-13 00:49:30              0               1   \n",
       "3  2018-10-27 16:54:47   2018-09-13 00:49:30              0               1   \n",
       "4  2018-10-27 16:59:54   2018-09-13 00:49:30              0               1   \n",
       "\n",
       "  num_days_since_signup  gender_index level_index auth_index  \n",
       "0                    44           0.0         0.0        0.0  \n",
       "1                    44           0.0         0.0        0.0  \n",
       "2                    44           0.0         0.0        0.0  \n",
       "3                    44           0.0         0.0        0.0  \n",
       "4                    44           0.0         0.0        0.0  \n",
       "\n",
       "[5 rows x 26 columns]"
      ]
     },
     "execution_count": 37,
     "metadata": {},
     "output_type": "execute_result"
    }
   ],
   "source": [
    "df_ = df_clean.toPandas()\n",
    "\n",
    "df_.head()"
   ]
  },
  {
   "cell_type": "code",
   "execution_count": 38,
   "metadata": {},
   "outputs": [],
   "source": [
    "### KEEP THIS ONE FOR THE VERY END\n",
    "#drop unnecessary cols\n",
    "#cols = [\"firstname\",\"lastname\",\"location\",\"method\",\"useragent\",\"status\",\"registration\"]\n",
    "\n",
    "#add ts, length, at the end\n",
    "#df_clean = df_clean.drop(*cols)"
   ]
  },
  {
   "cell_type": "markdown",
   "metadata": {},
   "source": [
    "# <a class=\"anchor\" id=\"model\">5. Modeling</a>\n",
    "Split the full dataset into train, test, and validation sets. Test out several of the machine learning methods you learned. Evaluate the accuracy of the various models, tuning parameters as necessary. Determine your winning model based on test accuracy and report results on the validation set. Since the churned users are a fairly small subset, I suggest using F1 score as the metric to optimize."
   ]
  },
  {
   "cell_type": "code",
   "execution_count": 39,
   "metadata": {},
   "outputs": [],
   "source": [
    "# update table with added features\n",
    "df_clean.createOrReplaceTempView(\"sparkify_users_interactions_churn\")"
   ]
  },
  {
   "cell_type": "code",
   "execution_count": 40,
   "metadata": {},
   "outputs": [],
   "source": [
    "features_df = spark.sql('''\n",
    "        SELECT\n",
    "        userid,\n",
    "        gender_index,\n",
    "        has_cancelled as label,\n",
    "        max(level_index) as max_level_index,\n",
    "        max(auth_index) as max_auth_index,\n",
    "        max(num_days_since_signup) as max_num_days_since_signup\n",
    "        ,count(distinct sessionid) as num_sessions\n",
    "        ,count(*) as num_total_interactions\n",
    "        ,count(case when page in ('Add Friend','Add to Playlist','NextSong','Thumbs Up') then 1 else null end) as num_positive_interactions\n",
    "        ,count(case when page in ('Error','Submit Downgrade','Thumbs Down','Help') then 1 else null end) as num_negative_interactions\n",
    "        FROM sparkify_users_interactions_churn\n",
    "    group by 1,2,3\n",
    "    order by 1\n",
    "''')\n"
   ]
  },
  {
   "cell_type": "code",
   "execution_count": 41,
   "metadata": {},
   "outputs": [],
   "source": [
    "features_df = features_df.drop('userid')"
   ]
  },
  {
   "cell_type": "code",
   "execution_count": 42,
   "metadata": {},
   "outputs": [
    {
     "name": "stdout",
     "output_type": "stream",
     "text": [
      "root\n",
      " |-- gender_index: double (nullable = false)\n",
      " |-- label: integer (nullable = false)\n",
      " |-- max_level_index: double (nullable = true)\n",
      " |-- max_auth_index: double (nullable = true)\n",
      " |-- max_num_days_since_signup: integer (nullable = true)\n",
      " |-- num_sessions: long (nullable = false)\n",
      " |-- num_total_interactions: long (nullable = false)\n",
      " |-- num_positive_interactions: long (nullable = false)\n",
      " |-- num_negative_interactions: long (nullable = false)\n",
      "\n"
     ]
    }
   ],
   "source": [
    "features_df.printSchema()"
   ]
  },
  {
   "cell_type": "markdown",
   "metadata": {},
   "source": [
    "### Step 1. Features as Vectors"
   ]
  },
  {
   "cell_type": "markdown",
   "metadata": {},
   "source": [
    "`.` Create a vector from the combined columns of all of the features, see [here](https://spark.apache.org/docs/1.4.1/ml-features.html#vectorassembler)\n",
    "\n",
    "VectorAssembler is a transformer that combines a given list of columns into a single vector column. It is useful for combining raw features and features generated by different feature transformers into a single feature vector, in order to train ML models like logistic regression and decision trees. \n",
    "In each row, the values of the input columns will be concatenated into a vector in the specified order."
   ]
  },
  {
   "cell_type": "code",
   "execution_count": 43,
   "metadata": {},
   "outputs": [],
   "source": [
    "assembler = VectorAssembler(inputCols = [\"gender_index\", \"max_level_index\", \"max_auth_index\",\"max_num_days_since_signup\",\"num_sessions\",\"num_total_interactions\",\"num_positive_interactions\",\"num_negative_interactions\"],outputCol = \"features_vec\")\n",
    "\n",
    "features_df = assembler.transform(features_df)"
   ]
  },
  {
   "cell_type": "code",
   "execution_count": 44,
   "metadata": {},
   "outputs": [
    {
     "data": {
      "text/plain": [
       "Row(gender_index=0.0, label=0, max_level_index=0.0, max_auth_index=0.0, max_num_days_since_signup=69, num_sessions=7, num_total_interactions=899, num_positive_interactions=817, num_negative_interactions=10, features_vec=DenseVector([0.0, 0.0, 0.0, 69.0, 7.0, 899.0, 817.0, 10.0]))"
      ]
     },
     "execution_count": 44,
     "metadata": {},
     "output_type": "execute_result"
    }
   ],
   "source": [
    "features_df.head()"
   ]
  },
  {
   "cell_type": "markdown",
   "metadata": {},
   "source": [
    "### Step 2. Features Standardisation"
   ]
  },
  {
   "cell_type": "markdown",
   "metadata": {},
   "source": [
    "`.`StandardScaler transforms a dataset of Vector rows, see [here](https://spark.apache.org/docs/1.4.1/ml-features.html#standardscaler)\n",
    "                                                                  \n",
    "Normalizing each feature to have unit standard deviation and/or zero mean.\n",
    "This can be relevant to our model since we are dealing with features of different scale and do not necessarly want highest/lowest values to overweight in the model predictions.\n"
   ]
  },
  {
   "cell_type": "code",
   "execution_count": 46,
   "metadata": {},
   "outputs": [],
   "source": [
    "scaler = StandardScaler(inputCol=\"features_vec\", outputCol=\"features\", withStd=True)\n",
    "\n",
    "scaler_model = scaler.fit(features_df)\n",
    "\n",
    "features_df = scaler_model.transform(features_df)\n"
   ]
  },
  {
   "cell_type": "code",
   "execution_count": 47,
   "metadata": {},
   "outputs": [
    {
     "data": {
      "text/plain": [
       "Row(gender_index=0.0, label=0, max_level_index=0.0, max_auth_index=0.0, max_num_days_since_signup=69, num_sessions=7, num_total_interactions=899, num_positive_interactions=817, num_negative_interactions=10, features_vec=DenseVector([0.0, 0.0, 0.0, 69.0, 7.0, 899.0, 817.0, 10.0]), features=DenseVector([0.0, 0.0, 0.0, 1.8339, 0.4779, 0.6762, 0.6704, 0.4854]))"
      ]
     },
     "execution_count": 47,
     "metadata": {},
     "output_type": "execute_result"
    }
   ],
   "source": [
    "features_df.head()"
   ]
  },
  {
   "cell_type": "code",
   "execution_count": null,
   "metadata": {},
   "outputs": [],
   "source": []
  },
  {
   "cell_type": "markdown",
   "metadata": {},
   "source": [
    "### Step 3. Train Test Split"
   ]
  },
  {
   "cell_type": "code",
   "execution_count": 49,
   "metadata": {},
   "outputs": [
    {
     "name": "stdout",
     "output_type": "stream",
     "text": [
      "Training Dataset:139\n",
      "Test Dataset:40\n",
      "Validation Dataset:46\n"
     ]
    }
   ],
   "source": [
    "train, test, valid = features_df.randomSplit([0.6, 0.2, 0.2], seed = 42)\n",
    "print(\"Training Dataset:\" + str(train.count()))\n",
    "print(\"Test Dataset:\" + str(test.count()))\n",
    "print(\"Validation Dataset:\" + str(valid.count()))"
   ]
  },
  {
   "cell_type": "code",
   "execution_count": 50,
   "metadata": {},
   "outputs": [],
   "source": [
    "lr = LogisticRegression(featuresCol = 'features', labelCol = 'label', maxIter=10)\n",
    "rfc = RandomForestClassifier(featuresCol = 'features', labelCol = 'label', seed=42)\n"
   ]
  },
  {
   "cell_type": "code",
   "execution_count": 51,
   "metadata": {},
   "outputs": [],
   "source": [
    "model_list = [lr,rfc]\n"
   ]
  },
  {
   "cell_type": "code",
   "execution_count": 52,
   "metadata": {},
   "outputs": [],
   "source": [
    "evaluator = MulticlassClassificationEvaluator(labelCol = 'label', predictionCol='prediction')\n"
   ]
  },
  {
   "cell_type": "code",
   "execution_count": 53,
   "metadata": {},
   "outputs": [
    {
     "name": "stdout",
     "output_type": "stream",
     "text": [
      "LogisticRegression training started\n",
      "LogisticRegression training ended\n",
      "Time taken for LogisticRegression is: 152.014582157135 seconds\n",
      "LogisticRegression predicting started\n",
      "LogisticRegression predicting ended\n",
      "F1 for LogisticRegression is: 1.0\n",
      "The accuracy of the LogisticRegression model is: 1.0\n",
      "RandomForestClassifier training started\n",
      "RandomForestClassifier training ended\n",
      "Time taken for RandomForestClassifier is: 133.59400081634521 seconds\n",
      "RandomForestClassifier predicting started\n",
      "RandomForestClassifier predicting ended\n",
      "F1 for RandomForestClassifier is: 1.0\n",
      "The accuracy of the RandomForestClassifier model is: 1.0\n"
     ]
    }
   ],
   "source": [
    "for model in model_list:\n",
    "    # get model name \n",
    "    model_name = model.__class__.__name__\n",
    "    \n",
    "    # print training started\n",
    "    print(model_name, 'training started')\n",
    "    \n",
    "    # start time\n",
    "    start = time.time()\n",
    "    # fit the models on train dataset\n",
    "    model = model.fit(train)\n",
    "    # end time\n",
    "    end = time.time()\n",
    "     \n",
    "    # print training ended\n",
    "    print(model_name, 'training ended')\n",
    "    # print time taken\n",
    "    print('Time taken for {} is:'.format(model_name),(end-start),'seconds')\n",
    "    \n",
    "    # predict\n",
    "    print(model_name, 'predicting started')\n",
    "    predictions = model.transform(valid)\n",
    "    print(model_name, 'predicting ended')\n",
    "    \n",
    "    # get metrics to evaluate\n",
    "    # f1\n",
    "    print('F1 for {} is:'.format(model_name), evaluator.evaluate(predictions, {evaluator.metricName: \"f1\"}))\n",
    "    # accuracy\n",
    "    accuracy = predictions.filter(predictions.label == predictions.prediction).count() / (predictions.count())\n",
    "    print(\"The accuracy of the {} model is:\".format(model_name), accuracy)"
   ]
  },
  {
   "cell_type": "markdown",
   "metadata": {},
   "source": [
    "# <a class=\"anchor\" id=\"results\">6. Conclusion</a>"
   ]
  },
  {
   "cell_type": "markdown",
   "metadata": {},
   "source": [
    "# Final Steps\n",
    "Clean up your code, adding comments and renaming variables to make the code easier to read and maintain. Refer to the Spark Project Overview page and Data Scientist Capstone Project Rubric to make sure you are including all components of the capstone project and meet all expectations. Remember, this includes thorough documentation in a README file in a Github repository, as well as a web app or blog post."
   ]
  },
  {
   "cell_type": "code",
   "execution_count": null,
   "metadata": {},
   "outputs": [],
   "source": []
  },
  {
   "cell_type": "code",
   "execution_count": null,
   "metadata": {},
   "outputs": [],
   "source": []
  },
  {
   "cell_type": "code",
   "execution_count": null,
   "metadata": {},
   "outputs": [],
   "source": []
  },
  {
   "cell_type": "code",
   "execution_count": null,
   "metadata": {},
   "outputs": [],
   "source": []
  }
 ],
 "metadata": {
  "kernelspec": {
   "display_name": "Python 3",
   "language": "python",
   "name": "python3"
  },
  "language_info": {
   "codemirror_mode": {
    "name": "ipython",
    "version": 3
   },
   "file_extension": ".py",
   "mimetype": "text/x-python",
   "name": "python",
   "nbconvert_exporter": "python",
   "pygments_lexer": "ipython3",
   "version": "3.6.3"
  }
 },
 "nbformat": 4,
 "nbformat_minor": 2
}